{
 "cells": [
  {
   "cell_type": "markdown",
   "id": "482215fc-abab-41cb-8b0f-16e307c38d17",
   "metadata": {
    "tags": []
   },
   "source": [
    "# Disaster or not Disaster Tweets\n",
    "\n",
    "Written By: Alexander Wang\n",
    "\n",
    "Date: August 20th, 2023\n",
    "\n",
    "This project intends to build an NLP model to classify tweets on whether they refer to a real life disaster or not.\n",
    "\n",
    "It utilizes 10k samples from the Natural Language Processing with Disaster Tweets Dataset from Kaggle (https://www.kaggle.com/competitions/nlp-getting-started/overview)"
   ]
  },
  {
   "cell_type": "markdown",
   "id": "117aafe0-f07f-4a5c-8dbe-4dc0c085ddc6",
   "metadata": {},
   "source": [
    "## Get Helper Functions"
   ]
  },
  {
   "cell_type": "code",
   "execution_count": null,
   "id": "f842d3b8-45fc-4848-ae9e-3901f324d913",
   "metadata": {},
   "outputs": [],
   "source": [
    "from helper_functions import unzip_data, create_tensorboard_callback, plot_loss_curves, compare_historys"
   ]
  },
  {
   "cell_type": "markdown",
   "id": "ab8afec1-9a4b-4413-a8fc-2b22deb6ed7c",
   "metadata": {
    "tags": []
   },
   "source": [
    "## Import Data"
   ]
  },
  {
   "cell_type": "code",
   "execution_count": 4,
   "id": "0a1e0a66-d776-4da6-8e32-057504c99377",
   "metadata": {},
   "outputs": [],
   "source": [
    "import urllib.request\n",
    "import zipfile\n",
    "\n",
    "url = \"https://storage.googleapis.com/ztm_tf_course/nlp_getting_started.zip\"\n",
    "filename = \"nlp_getting_started.zip\"\n",
    "urllib.request.urlretrieve(url, filename)\n",
    "\n",
    "# Unzip the downloaded file\n",
    "zip_ref = zipfile.ZipFile(\"nlp_getting_started.zip\")\n",
    "zip_ref.extractall()\n",
    "zip_ref.close()"
   ]
  },
  {
   "cell_type": "markdown",
   "id": "97905f36-e118-4e50-abf6-d6e62f7fa52e",
   "metadata": {
    "tags": []
   },
   "source": [
    "### Import Data - Visualized"
   ]
  },
  {
   "cell_type": "code",
   "execution_count": 4,
   "id": "28cb00f3-ef4e-4581-b5c2-373d12f725ba",
   "metadata": {},
   "outputs": [
    {
     "data": {
      "text/html": [
       "<div>\n",
       "<style scoped>\n",
       "    .dataframe tbody tr th:only-of-type {\n",
       "        vertical-align: middle;\n",
       "    }\n",
       "\n",
       "    .dataframe tbody tr th {\n",
       "        vertical-align: top;\n",
       "    }\n",
       "\n",
       "    .dataframe thead th {\n",
       "        text-align: right;\n",
       "    }\n",
       "</style>\n",
       "<table border=\"1\" class=\"dataframe\">\n",
       "  <thead>\n",
       "    <tr style=\"text-align: right;\">\n",
       "      <th></th>\n",
       "      <th>id</th>\n",
       "      <th>keyword</th>\n",
       "      <th>location</th>\n",
       "      <th>text</th>\n",
       "      <th>target</th>\n",
       "    </tr>\n",
       "  </thead>\n",
       "  <tbody>\n",
       "    <tr>\n",
       "      <th>0</th>\n",
       "      <td>1</td>\n",
       "      <td>NaN</td>\n",
       "      <td>NaN</td>\n",
       "      <td>Our Deeds are the Reason of this #earthquake M...</td>\n",
       "      <td>1</td>\n",
       "    </tr>\n",
       "    <tr>\n",
       "      <th>1</th>\n",
       "      <td>4</td>\n",
       "      <td>NaN</td>\n",
       "      <td>NaN</td>\n",
       "      <td>Forest fire near La Ronge Sask. Canada</td>\n",
       "      <td>1</td>\n",
       "    </tr>\n",
       "    <tr>\n",
       "      <th>2</th>\n",
       "      <td>5</td>\n",
       "      <td>NaN</td>\n",
       "      <td>NaN</td>\n",
       "      <td>All residents asked to 'shelter in place' are ...</td>\n",
       "      <td>1</td>\n",
       "    </tr>\n",
       "    <tr>\n",
       "      <th>3</th>\n",
       "      <td>6</td>\n",
       "      <td>NaN</td>\n",
       "      <td>NaN</td>\n",
       "      <td>13,000 people receive #wildfires evacuation or...</td>\n",
       "      <td>1</td>\n",
       "    </tr>\n",
       "    <tr>\n",
       "      <th>4</th>\n",
       "      <td>7</td>\n",
       "      <td>NaN</td>\n",
       "      <td>NaN</td>\n",
       "      <td>Just got sent this photo from Ruby #Alaska as ...</td>\n",
       "      <td>1</td>\n",
       "    </tr>\n",
       "  </tbody>\n",
       "</table>\n",
       "</div>"
      ],
      "text/plain": [
       "   id keyword location                                               text  \\\n",
       "0   1     NaN      NaN  Our Deeds are the Reason of this #earthquake M...   \n",
       "1   4     NaN      NaN             Forest fire near La Ronge Sask. Canada   \n",
       "2   5     NaN      NaN  All residents asked to 'shelter in place' are ...   \n",
       "3   6     NaN      NaN  13,000 people receive #wildfires evacuation or...   \n",
       "4   7     NaN      NaN  Just got sent this photo from Ruby #Alaska as ...   \n",
       "\n",
       "   target  \n",
       "0       1  \n",
       "1       1  \n",
       "2       1  \n",
       "3       1  \n",
       "4       1  "
      ]
     },
     "execution_count": 4,
     "metadata": {},
     "output_type": "execute_result"
    }
   ],
   "source": [
    "import pandas as pd\n",
    "train_df = pd.read_csv(\"train.csv\")\n",
    "test_df = pd.read_csv(\"test.csv\")\n",
    "train_df.head()"
   ]
  },
  {
   "cell_type": "code",
   "execution_count": 5,
   "id": "c2821be8-7ac5-4e7e-b59b-6bebcc0038b6",
   "metadata": {},
   "outputs": [
    {
     "data": {
      "text/plain": [
       "'Our Deeds are the Reason of this #earthquake May ALLAH Forgive us all'"
      ]
     },
     "execution_count": 5,
     "metadata": {},
     "output_type": "execute_result"
    }
   ],
   "source": [
    "train_df[\"text\"][0]"
   ]
  },
  {
   "cell_type": "markdown",
   "id": "890b317a-b87a-4e2a-80aa-0798887164d7",
   "metadata": {},
   "source": [
    "## Preprocess Data"
   ]
  },
  {
   "cell_type": "code",
   "execution_count": null,
   "id": "4b41d8ed-72d7-4d25-9f94-52b210307109",
   "metadata": {},
   "outputs": [],
   "source": [
    "# Shuffle training dataframe\n",
    "train_df_shuffled = train_df.sample(frac=1, random_state=42) # Shuffle fraction 100%"
   ]
  },
  {
   "cell_type": "markdown",
   "id": "442eb160-8de8-40ad-9ec8-73a4936fdf56",
   "metadata": {},
   "source": [
    "### Split Data into Sets"
   ]
  },
  {
   "cell_type": "code",
   "execution_count": 11,
   "id": "6af7b549-c266-4875-b4e0-dc31cfc56279",
   "metadata": {},
   "outputs": [],
   "source": [
    "from sklearn.model_selection import train_test_split"
   ]
  },
  {
   "cell_type": "code",
   "execution_count": 12,
   "id": "8937c1f2-f561-43bb-b799-8738aeedbe1e",
   "metadata": {},
   "outputs": [],
   "source": [
    "# Use train_test_split to split Training Data into Train and Validation Sets\n",
    "train_sentences, val_sentences, train_labels, val_labels = train_test_split(train_df_shuffled[\"text\"].to_numpy(),\n",
    "                                                                            train_df_shuffled[\"target\"].to_numpy(),\n",
    "                                                                            test_size=0.1, # Use 10% of training data for validation split\n",
    "                                                                            random_state=42)"
   ]
  },
  {
   "cell_type": "markdown",
   "id": "11d712c4-a975-4518-b84f-6fc57726f5fa",
   "metadata": {},
   "source": [
    "### Text Vectorization (Tokenization)"
   ]
  },
  {
   "cell_type": "code",
   "execution_count": 15,
   "id": "96c5d077-862e-4254-afec-fe0823d8a73a",
   "metadata": {},
   "outputs": [],
   "source": [
    "import tensorflow as tf\n",
    "from tensorflow.keras.layers.experimental.preprocessing import TextVectorization"
   ]
  },
  {
   "cell_type": "code",
   "execution_count": 16,
   "id": "7ae9b1a5-825b-48e9-949c-86c7ad90127a",
   "metadata": {},
   "outputs": [],
   "source": [
    "# These are the default TextVectorization parameters\n",
    "text_vectorizer = TextVectorization(max_tokens=10000, # Max vocabulary number, will take the Top n most common words\n",
    "                                    standardize=\"lower_and_strip_punctuation\", # Remove unnecessary data that is not important to the purpose of the model\n",
    "                                    split=\"whitespace\", # delimiter\n",
    "                                    ngrams=None, # How many words in a token (default = 1)\n",
    "                                    output_mode=\"int\", # Data type of the token\n",
    "                                    output_sequence_length=None, # Will take longest sequence to be the length\n",
    "                                    pad_to_max_tokens=True) # Will pad with 0s until max sequence length is reached"
   ]
  },
  {
   "cell_type": "code",
   "execution_count": 17,
   "id": "01d4c314-a071-4ad3-a8c1-ceaad873031b",
   "metadata": {},
   "outputs": [
    {
     "data": {
      "text/plain": [
       "15"
      ]
     },
     "execution_count": 17,
     "metadata": {},
     "output_type": "execute_result"
    }
   ],
   "source": [
    "# Find the average number of tokens (words) in the training data\n",
    "round(sum([len(i.split()) for i in train_sentences])/len(train_sentences))"
   ]
  },
  {
   "cell_type": "code",
   "execution_count": 18,
   "id": "70afc868-b199-4852-b751-3b9161563378",
   "metadata": {},
   "outputs": [],
   "source": [
    "# Setup text vectorization variables\n",
    "max_vocab_length = 10000\n",
    "max_length = 15 # max length our sequences will be (how many words from a Tweet does our model see)\n",
    "\n",
    "text_vectorizer = TextVectorization(max_tokens=max_vocab_length,\n",
    "                                    output_mode=\"int\",\n",
    "                                    output_sequence_length=max_length)"
   ]
  },
  {
   "cell_type": "code",
   "execution_count": 19,
   "id": "ec9de0d7-6bb6-4545-ae0a-4976c298306f",
   "metadata": {},
   "outputs": [],
   "source": [
    "# Fit the text vectorizer to the training text\n",
    "text_vectorizer.adapt(train_sentences)"
   ]
  },
  {
   "cell_type": "code",
   "execution_count": 22,
   "id": "5ab9149c-20df-40d8-904b-0d020b616269",
   "metadata": {},
   "outputs": [
    {
     "name": "stdout",
     "output_type": "stream",
     "text": [
      "Number of words: 10000\n",
      "5 most common words: ['', '[UNK]', 'the', 'a', 'in']\n",
      "5 leas common words: ['pages', 'paeds', 'pads', 'padres', 'paddytomlinson1']\n"
     ]
    }
   ],
   "source": [
    "# Get the unique words in the vocabulary\n",
    "words_in_vocab = text_vectorizer.get_vocabulary() # get all of the unique words in the vocabulary\n",
    "top_5_words = words_in_vocab[:5]\n",
    "bottom_5_words = words_in_vocab[-5:] # get the least common words\n",
    "print(f\"Number of words: {len(words_in_vocab)}\")\n",
    "print(f\"5 most common words: {top_5_words}\")\n",
    "print(f\"5 leas common words: {bottom_5_words}\")"
   ]
  },
  {
   "cell_type": "markdown",
   "id": "7e61131f-083c-4e52-b53c-0a5b84d3a92f",
   "metadata": {},
   "source": [
    "### Embedding (Embedding Layer)\n",
    "\n",
    "Parameters of the embedding layer:\n",
    "1. input_dim = the size of our vocabulary\n",
    "2. output_dim = the size of our output embedding vector\n",
    "3. input_length = length of the sequence being passed to the embedding layer"
   ]
  },
  {
   "cell_type": "code",
   "execution_count": 23,
   "id": "42745071-71a4-4fc6-908e-db032388a071",
   "metadata": {},
   "outputs": [
    {
     "data": {
      "text/plain": [
       "<keras.layers.embeddings.Embedding at 0x19f8c208880>"
      ]
     },
     "execution_count": 23,
     "metadata": {},
     "output_type": "execute_result"
    }
   ],
   "source": [
    "from tensorflow.keras import layers\n",
    "\n",
    "embedding = layers.Embedding(input_dim=max_vocab_length,\n",
    "                             output_dim=128,\n",
    "                             input_length=max_length\n",
    "                            )\n",
    "embedding"
   ]
  },
  {
   "cell_type": "markdown",
   "id": "d1a09bd6-ef85-4ff1-827d-2c4663375787",
   "metadata": {},
   "source": [
    "### Preprocess Data - Visualized"
   ]
  },
  {
   "cell_type": "code",
   "execution_count": 7,
   "id": "a6aeeb31-759e-4238-9261-501b98e5db9a",
   "metadata": {},
   "outputs": [
    {
     "data": {
      "text/html": [
       "<div>\n",
       "<style scoped>\n",
       "    .dataframe tbody tr th:only-of-type {\n",
       "        vertical-align: middle;\n",
       "    }\n",
       "\n",
       "    .dataframe tbody tr th {\n",
       "        vertical-align: top;\n",
       "    }\n",
       "\n",
       "    .dataframe thead th {\n",
       "        text-align: right;\n",
       "    }\n",
       "</style>\n",
       "<table border=\"1\" class=\"dataframe\">\n",
       "  <thead>\n",
       "    <tr style=\"text-align: right;\">\n",
       "      <th></th>\n",
       "      <th>id</th>\n",
       "      <th>keyword</th>\n",
       "      <th>location</th>\n",
       "      <th>text</th>\n",
       "    </tr>\n",
       "  </thead>\n",
       "  <tbody>\n",
       "    <tr>\n",
       "      <th>0</th>\n",
       "      <td>0</td>\n",
       "      <td>NaN</td>\n",
       "      <td>NaN</td>\n",
       "      <td>Just happened a terrible car crash</td>\n",
       "    </tr>\n",
       "    <tr>\n",
       "      <th>1</th>\n",
       "      <td>2</td>\n",
       "      <td>NaN</td>\n",
       "      <td>NaN</td>\n",
       "      <td>Heard about #earthquake is different cities, s...</td>\n",
       "    </tr>\n",
       "    <tr>\n",
       "      <th>2</th>\n",
       "      <td>3</td>\n",
       "      <td>NaN</td>\n",
       "      <td>NaN</td>\n",
       "      <td>there is a forest fire at spot pond, geese are...</td>\n",
       "    </tr>\n",
       "    <tr>\n",
       "      <th>3</th>\n",
       "      <td>9</td>\n",
       "      <td>NaN</td>\n",
       "      <td>NaN</td>\n",
       "      <td>Apocalypse lighting. #Spokane #wildfires</td>\n",
       "    </tr>\n",
       "    <tr>\n",
       "      <th>4</th>\n",
       "      <td>11</td>\n",
       "      <td>NaN</td>\n",
       "      <td>NaN</td>\n",
       "      <td>Typhoon Soudelor kills 28 in China and Taiwan</td>\n",
       "    </tr>\n",
       "  </tbody>\n",
       "</table>\n",
       "</div>"
      ],
      "text/plain": [
       "   id keyword location                                               text\n",
       "0   0     NaN      NaN                 Just happened a terrible car crash\n",
       "1   2     NaN      NaN  Heard about #earthquake is different cities, s...\n",
       "2   3     NaN      NaN  there is a forest fire at spot pond, geese are...\n",
       "3   9     NaN      NaN           Apocalypse lighting. #Spokane #wildfires\n",
       "4  11     NaN      NaN      Typhoon Soudelor kills 28 in China and Taiwan"
      ]
     },
     "execution_count": 7,
     "metadata": {},
     "output_type": "execute_result"
    }
   ],
   "source": [
    "# What does the test dataframe look like?\n",
    "test_df.head()"
   ]
  },
  {
   "cell_type": "code",
   "execution_count": 8,
   "id": "dd24df79-6e22-479b-af9a-3022da5cc392",
   "metadata": {},
   "outputs": [
    {
     "data": {
      "text/plain": [
       "target\n",
       "0    4342\n",
       "1    3271\n",
       "Name: count, dtype: int64"
      ]
     },
     "execution_count": 8,
     "metadata": {},
     "output_type": "execute_result"
    }
   ],
   "source": [
    "# How many examples of each class are there?\n",
    "train_df.target.value_counts()"
   ]
  },
  {
   "cell_type": "code",
   "execution_count": 9,
   "id": "cc7f2688-6af2-44a5-89cd-8f4a7489e00e",
   "metadata": {},
   "outputs": [
    {
     "data": {
      "text/plain": [
       "(7613, 3263)"
      ]
     },
     "execution_count": 9,
     "metadata": {},
     "output_type": "execute_result"
    }
   ],
   "source": [
    "# How many total samples?\n",
    "len(train_df), len(test_df)"
   ]
  },
  {
   "cell_type": "code",
   "execution_count": 10,
   "id": "36283cb3-e9a9-4ff2-97c7-e9e72a13caea",
   "metadata": {},
   "outputs": [
    {
     "name": "stdout",
     "output_type": "stream",
     "text": [
      "Target: 1 (real disaster)\n",
      "Text:\n",
      "#News Bin Laden family plane crashed after 'avoiding microlight and landing too far down runway' http://t.co/x9MDHocpda\n",
      "\n",
      "---\n",
      "\n",
      "Target: 1 (real disaster)\n",
      "Text:\n",
      "11-Year-Old Boy Charged With Manslaughter of Toddler: Report: An 11-year-old boy has been charged with manslaughter over the fatal sh...\n",
      "\n",
      "---\n",
      "\n",
      "Target: 0 (not real disaster)\n",
      "Text:\n",
      "Building the perfect tracklist to life leave the streets ablaze\n",
      "\n",
      "---\n",
      "\n",
      "Target: 1 (real disaster)\n",
      "Text:\n",
      "@selmoooooo @_edvinnn @imTariik @dzafic_haris selmo u not catching flames from me  im just gonna be witnessing the slaughter\n",
      "\n",
      "---\n",
      "\n",
      "Target: 0 (not real disaster)\n",
      "Text:\n",
      "I'm battling monsters I'm pulling you out of the burning buildings and you say I'll give you anything but you never come through.\n",
      "\n",
      "---\n",
      "\n"
     ]
    }
   ],
   "source": [
    "# Let's visualize some random training examples\n",
    "import random\n",
    "random_index = random.randint(0, len(train_df)-5) # Create random indexes not higher than the number of samples\n",
    "for row in train_df_shuffled[[\"text\", \"target\"]][random_index:random_index+5].itertuples():\n",
    "    _, text, target = row\n",
    "    print(f\"Target: {target}\", \"(real disaster)\" if target > 0 else \"(not real disaster)\")\n",
    "    print(f\"Text:\\n{text}\\n\")\n",
    "    print(\"---\\n\")"
   ]
  },
  {
   "cell_type": "code",
   "execution_count": 13,
   "id": "72102300-cda8-4648-824e-1cb232356ab5",
   "metadata": {},
   "outputs": [
    {
     "data": {
      "text/plain": [
       "(6851, 6851, 762, 762)"
      ]
     },
     "execution_count": 13,
     "metadata": {},
     "output_type": "execute_result"
    }
   ],
   "source": [
    "# Check the lengths of our splits\n",
    "len(train_sentences), len(train_labels), len(val_sentences), len(val_labels)"
   ]
  },
  {
   "cell_type": "code",
   "execution_count": 14,
   "id": "d16341c2-790c-4ae7-a4a6-50b83da738b7",
   "metadata": {},
   "outputs": [
    {
     "data": {
      "text/plain": [
       "(array(['@mogacola @zamtriossu i screamed after hitting tweet',\n",
       "        'Imagine getting flattened by Kurt Zouma',\n",
       "        '@Gurmeetramrahim #MSGDoing111WelfareWorks Green S welfare force ke appx 65000 members har time disaster victim ki help ke liye tyar hai....',\n",
       "        \"@shakjn @C7 @Magnums im shaking in fear he's gonna hack the planet\",\n",
       "        'Somehow find you and I collide http://t.co/Ee8RpOahPk',\n",
       "        '@EvaHanderek @MarleyKnysh great times until the bus driver held us hostage in the mall parking lot lmfao',\n",
       "        'destroy the free fandom honestly',\n",
       "        'Weapons stolen from National Guard Armory in New Albany still missing #Gunsense http://t.co/lKNU8902JE',\n",
       "        '@wfaaweather Pete when will the heat wave pass? Is it really going to be mid month? Frisco Boy Scouts have a canoe trip in Okla.',\n",
       "        'Patient-reported outcomes in long-term survivors of metastatic colorectal cancer - British Journal of Surgery http://t.co/5Yl4DC1Tqt'],\n",
       "       dtype=object),\n",
       " array([0, 0, 1, 0, 0, 1, 1, 0, 1, 1], dtype=int64))"
      ]
     },
     "execution_count": 14,
     "metadata": {},
     "output_type": "execute_result"
    }
   ],
   "source": [
    "# Check the first 10 samples\n",
    "train_sentences[:10], train_labels[:10]"
   ]
  },
  {
   "cell_type": "code",
   "execution_count": null,
   "id": "60bd7dc1-2ecb-4173-a633-e2f2e47b3db9",
   "metadata": {},
   "outputs": [
    {
     "data": {
      "text/plain": [
       "<tf.Tensor: shape=(1, 15), dtype=int64, numpy=\n",
       "array([[264,   3, 232,   4,  13, 698,   0,   0,   0,   0,   0,   0,   0,\n",
       "          0,   0]], dtype=int64)>"
      ]
     },
     "execution_count": 20,
     "metadata": {},
     "output_type": "execute_result"
    }
   ],
   "source": [
    "# Create a sample sentence and tokenize it\n",
    "sample_sentence = \"There's a flood in my street!\"\n",
    "text_vectorizer([sample_sentence])"
   ]
  },
  {
   "cell_type": "code",
   "execution_count": null,
   "id": "1d4f59fa-6431-46c7-8602-8c50c25390e8",
   "metadata": {},
   "outputs": [
    {
     "name": "stdout",
     "output_type": "stream",
     "text": [
      "Original Text:\n",
      "1.94 earthquake occurred 5km S of Volcano Hawaii at 01:04 UTC! #earthquake #Volcano http://t.co/auf4J4Owj1        \n",
      "\n",
      "Vectorized version:\n"
     ]
    },
    {
     "data": {
      "text/plain": [
       "<tf.Tensor: shape=(1, 15), dtype=int64, numpy=\n",
       "array([[   1,  290, 1068, 2205,  236,    6,  524, 1665,   17, 4193, 1931,\n",
       "         290,  524,    1,    0]], dtype=int64)>"
      ]
     },
     "execution_count": 21,
     "metadata": {},
     "output_type": "execute_result"
    }
   ],
   "source": [
    "# Choose a random sentence from the training dataset and tokenize it\n",
    "random_sentence = random.choice(train_sentences)\n",
    "print(f\"Original Text:\\n{random_sentence}\\\n",
    "        \\n\\nVectorized version:\")\n",
    "text_vectorizer([random_sentence])"
   ]
  },
  {
   "cell_type": "code",
   "execution_count": 24,
   "id": "5c8b5610-e363-40de-a949-3233266dc0c6",
   "metadata": {},
   "outputs": [
    {
     "name": "stdout",
     "output_type": "stream",
     "text": [
      "Original text:\n",
      " Watch This Airport Get Swallowed Up By A Sandstorm In Under A Minute http://t.co/Q0X7e84R4e\n",
      "\n",
      "\n",
      "Embedded version:\n"
     ]
    },
    {
     "data": {
      "text/plain": [
       "<tf.Tensor: shape=(1, 15, 128), dtype=float32, numpy=\n",
       "array([[[ 5.7339668e-05, -7.8864805e-03, -8.4780529e-04, ...,\n",
       "          2.3619700e-02,  2.1098126e-02, -1.9919861e-02],\n",
       "        [ 1.9246999e-02,  1.6769413e-02, -2.6385859e-04, ...,\n",
       "          3.7323330e-02,  3.9960671e-02, -2.9433632e-02],\n",
       "        [-3.8626540e-02,  3.1560548e-03, -1.7068136e-02, ...,\n",
       "          8.4113479e-03, -1.5483130e-02, -2.4541467e-04],\n",
       "        ...,\n",
       "        [-4.2984858e-03, -2.0683313e-02, -1.6953599e-02, ...,\n",
       "         -1.6439818e-02,  3.7094031e-02, -3.6875021e-02],\n",
       "        [ 1.8096790e-03, -2.2562576e-02,  1.7220620e-02, ...,\n",
       "          3.5259631e-02,  3.3818219e-02,  3.9822832e-03],\n",
       "        [ 1.8065538e-02,  3.6106620e-02,  3.0682329e-02, ...,\n",
       "         -3.0567909e-02,  9.5974803e-03,  1.5388679e-02]]], dtype=float32)>"
      ]
     },
     "execution_count": 24,
     "metadata": {},
     "output_type": "execute_result"
    }
   ],
   "source": [
    "# Get a random sentence from the training set\n",
    "random_sentence = random.choice(train_sentences)\n",
    "print(f\"Original text:\\n {random_sentence}\")\n",
    "print(f\"\\n\\nEmbedded version:\")\n",
    "\n",
    "# Embed the random sentence (turn it into dense vectors of fixed size first)\n",
    "sample_embed = embedding(text_vectorizer([random_sentence]))\n",
    "sample_embed"
   ]
  },
  {
   "cell_type": "code",
   "execution_count": 25,
   "id": "b0dfe8ca-0e01-4465-987e-5621a3edfc68",
   "metadata": {},
   "outputs": [
    {
     "data": {
      "text/plain": [
       "(<tf.Tensor: shape=(128,), dtype=float32, numpy=\n",
       " array([ 5.73396683e-05, -7.88648054e-03, -8.47805291e-04, -6.73151016e-03,\n",
       "         3.87971438e-02,  3.96238603e-02, -2.37920769e-02, -4.47144881e-02,\n",
       "         1.93371885e-02,  1.27013065e-02,  1.55675672e-02,  2.60746479e-03,\n",
       "        -3.79918106e-02,  4.98422422e-02,  1.17323175e-02, -2.93196365e-03,\n",
       "         1.48347951e-02,  1.39836222e-03,  4.72952761e-02,  2.07565688e-02,\n",
       "        -2.74412874e-02,  7.92215019e-03, -3.37081105e-02, -4.79017757e-02,\n",
       "        -4.04608734e-02,  3.85698788e-02,  3.85418795e-02,  1.56568177e-02,\n",
       "        -1.73413157e-02, -2.74437070e-02, -3.34809907e-02,  3.14064063e-02,\n",
       "        -1.80081949e-02,  4.11372222e-02, -3.17788273e-02,  4.69740666e-02,\n",
       "         1.06505528e-02,  1.09123103e-02, -2.24240776e-02, -4.37329784e-02,\n",
       "         1.39478333e-02,  3.19458954e-02,  4.10428084e-02,  4.81687225e-02,\n",
       "        -2.55432371e-02,  6.37974590e-03, -4.45573218e-02, -1.85189620e-02,\n",
       "         2.70070694e-02,  6.44506142e-03, -4.79913242e-02, -3.54075655e-02,\n",
       "        -1.30068772e-02, -1.75165161e-02,  2.75298469e-02,  1.56799667e-02,\n",
       "        -2.33797915e-02, -3.98000851e-02,  4.53103222e-02,  2.70597450e-02,\n",
       "         3.66057195e-02, -3.23938131e-02,  2.56508701e-02, -4.58567515e-02,\n",
       "        -3.30127403e-03, -1.81742311e-02,  1.54678486e-02,  3.63676623e-03,\n",
       "        -2.25917697e-02, -3.09346449e-02, -1.83470137e-02,  1.31950416e-02,\n",
       "        -1.97604541e-02,  3.78478505e-02,  5.79959154e-03, -4.47705761e-02,\n",
       "        -2.25051995e-02,  3.72311585e-02, -3.34338173e-02, -4.65116985e-02,\n",
       "         4.22127359e-02, -6.96719810e-03,  1.71631910e-02, -3.53321917e-02,\n",
       "         4.58749048e-02,  4.84114327e-02,  3.05462815e-02, -4.39917929e-02,\n",
       "         2.64755376e-02, -4.36193235e-02, -3.01289689e-02,  4.76751216e-02,\n",
       "        -2.59810444e-02, -4.61482666e-02,  2.91956104e-02,  1.99953951e-02,\n",
       "        -4.83609438e-02,  3.04584540e-02, -4.07363176e-02,  3.35581936e-02,\n",
       "        -4.70537320e-02,  1.49007179e-02,  1.10597387e-02,  2.02487595e-02,\n",
       "         2.89736651e-02,  3.81869189e-02,  3.71221043e-02, -1.66010745e-02,\n",
       "         2.67586596e-02, -3.02694086e-02,  2.81710550e-03,  7.79710710e-04,\n",
       "         4.49779518e-02,  1.71072520e-02, -1.96090937e-02, -3.94035503e-03,\n",
       "         4.30698320e-03,  3.56965140e-03, -4.15304303e-02, -4.14801948e-02,\n",
       "        -6.51932880e-03, -3.58203873e-02, -2.76376363e-02, -4.24241312e-02,\n",
       "         4.25339006e-02,  2.36197002e-02,  2.10981257e-02, -1.99198611e-02],\n",
       "       dtype=float32)>,\n",
       " TensorShape([128]),\n",
       " 'Watch This Airport Get Swallowed Up By A Sandstorm In Under A Minute http://t.co/Q0X7e84R4e')"
      ]
     },
     "execution_count": 25,
     "metadata": {},
     "output_type": "execute_result"
    }
   ],
   "source": [
    "# Check out a single token's embedding\n",
    "sample_embed[0][0], sample_embed[0][0].shape, random_sentence"
   ]
  },
  {
   "cell_type": "markdown",
   "id": "3157610a-7b95-4f05-934a-c6bbedc43552",
   "metadata": {},
   "source": [
    "## Function: Evaluate Predictions/Calculate Metrics"
   ]
  },
  {
   "cell_type": "code",
   "execution_count": 29,
   "id": "0700ab01-4046-4116-81f5-50fd688a0422",
   "metadata": {},
   "outputs": [],
   "source": [
    "# Function to evaluate accuracy, precision, recall, f1-score\n",
    "from sklearn.metrics import accuracy_score, precision_recall_fscore_support\n",
    "\n",
    "def calculate_results(y_true, y_pred):\n",
    "    \"\"\"\n",
    "    Calculates metrics for binary classification model\n",
    "    \"\"\"\n",
    "    # Calculate model accuracy\n",
    "    model_accuracy = accuracy_score(y_true, y_pred)*100\n",
    "    # Calculate model precision, recall and f1-score using \"weighted\" average\n",
    "    model_precision, model_recall, model_f1, _ = precision_recall_fscore_support(y_true, y_pred, average=\"weighted\")\n",
    "    model_results = {\"accuracy\": model_accuracy,\n",
    "                     \"precision\": model_precision,\n",
    "                     \"recall\": model_recall,\n",
    "                     \"f1\": model_f1}\n",
    "    return model_results"
   ]
  },
  {
   "cell_type": "markdown",
   "id": "f0fcac6d-950a-48db-95a9-6161ff521521",
   "metadata": {},
   "source": [
    "## Model 0: Multinomial Naive Bayes (baseline)\n",
    "\n",
    "https://scikit-learn.org/stable/tutorial/machine_learning_map/index.html\n",
    "\n",
    "We'll use sklearn's Multinomial Naive Bayes using the TF-IDF formula to convert our words into numbers"
   ]
  },
  {
   "cell_type": "markdown",
   "id": "9cd706b5-97ec-4bb7-83ca-c5769d2fc011",
   "metadata": {},
   "source": [
    "### Create Model"
   ]
  },
  {
   "cell_type": "code",
   "execution_count": 26,
   "id": "40fcd76d-6f63-4d43-aeff-854d7969a964",
   "metadata": {},
   "outputs": [
    {
     "data": {
      "text/html": [
       "<style>#sk-container-id-1 {color: black;}#sk-container-id-1 pre{padding: 0;}#sk-container-id-1 div.sk-toggleable {background-color: white;}#sk-container-id-1 label.sk-toggleable__label {cursor: pointer;display: block;width: 100%;margin-bottom: 0;padding: 0.3em;box-sizing: border-box;text-align: center;}#sk-container-id-1 label.sk-toggleable__label-arrow:before {content: \"▸\";float: left;margin-right: 0.25em;color: #696969;}#sk-container-id-1 label.sk-toggleable__label-arrow:hover:before {color: black;}#sk-container-id-1 div.sk-estimator:hover label.sk-toggleable__label-arrow:before {color: black;}#sk-container-id-1 div.sk-toggleable__content {max-height: 0;max-width: 0;overflow: hidden;text-align: left;background-color: #f0f8ff;}#sk-container-id-1 div.sk-toggleable__content pre {margin: 0.2em;color: black;border-radius: 0.25em;background-color: #f0f8ff;}#sk-container-id-1 input.sk-toggleable__control:checked~div.sk-toggleable__content {max-height: 200px;max-width: 100%;overflow: auto;}#sk-container-id-1 input.sk-toggleable__control:checked~label.sk-toggleable__label-arrow:before {content: \"▾\";}#sk-container-id-1 div.sk-estimator input.sk-toggleable__control:checked~label.sk-toggleable__label {background-color: #d4ebff;}#sk-container-id-1 div.sk-label input.sk-toggleable__control:checked~label.sk-toggleable__label {background-color: #d4ebff;}#sk-container-id-1 input.sk-hidden--visually {border: 0;clip: rect(1px 1px 1px 1px);clip: rect(1px, 1px, 1px, 1px);height: 1px;margin: -1px;overflow: hidden;padding: 0;position: absolute;width: 1px;}#sk-container-id-1 div.sk-estimator {font-family: monospace;background-color: #f0f8ff;border: 1px dotted black;border-radius: 0.25em;box-sizing: border-box;margin-bottom: 0.5em;}#sk-container-id-1 div.sk-estimator:hover {background-color: #d4ebff;}#sk-container-id-1 div.sk-parallel-item::after {content: \"\";width: 100%;border-bottom: 1px solid gray;flex-grow: 1;}#sk-container-id-1 div.sk-label:hover label.sk-toggleable__label {background-color: #d4ebff;}#sk-container-id-1 div.sk-serial::before {content: \"\";position: absolute;border-left: 1px solid gray;box-sizing: border-box;top: 0;bottom: 0;left: 50%;z-index: 0;}#sk-container-id-1 div.sk-serial {display: flex;flex-direction: column;align-items: center;background-color: white;padding-right: 0.2em;padding-left: 0.2em;position: relative;}#sk-container-id-1 div.sk-item {position: relative;z-index: 1;}#sk-container-id-1 div.sk-parallel {display: flex;align-items: stretch;justify-content: center;background-color: white;position: relative;}#sk-container-id-1 div.sk-item::before, #sk-container-id-1 div.sk-parallel-item::before {content: \"\";position: absolute;border-left: 1px solid gray;box-sizing: border-box;top: 0;bottom: 0;left: 50%;z-index: -1;}#sk-container-id-1 div.sk-parallel-item {display: flex;flex-direction: column;z-index: 1;position: relative;background-color: white;}#sk-container-id-1 div.sk-parallel-item:first-child::after {align-self: flex-end;width: 50%;}#sk-container-id-1 div.sk-parallel-item:last-child::after {align-self: flex-start;width: 50%;}#sk-container-id-1 div.sk-parallel-item:only-child::after {width: 0;}#sk-container-id-1 div.sk-dashed-wrapped {border: 1px dashed gray;margin: 0 0.4em 0.5em 0.4em;box-sizing: border-box;padding-bottom: 0.4em;background-color: white;}#sk-container-id-1 div.sk-label label {font-family: monospace;font-weight: bold;display: inline-block;line-height: 1.2em;}#sk-container-id-1 div.sk-label-container {text-align: center;}#sk-container-id-1 div.sk-container {/* jupyter's `normalize.less` sets `[hidden] { display: none; }` but bootstrap.min.css set `[hidden] { display: none !important; }` so we also need the `!important` here to be able to override the default hidden behavior on the sphinx rendered scikit-learn.org. See: https://github.com/scikit-learn/scikit-learn/issues/21755 */display: inline-block !important;position: relative;}#sk-container-id-1 div.sk-text-repr-fallback {display: none;}</style><div id=\"sk-container-id-1\" class=\"sk-top-container\"><div class=\"sk-text-repr-fallback\"><pre>Pipeline(steps=[(&#x27;tfidf&#x27;, TfidfVectorizer()), (&#x27;clf&#x27;, MultinomialNB())])</pre><b>In a Jupyter environment, please rerun this cell to show the HTML representation or trust the notebook. <br />On GitHub, the HTML representation is unable to render, please try loading this page with nbviewer.org.</b></div><div class=\"sk-container\" hidden><div class=\"sk-item sk-dashed-wrapped\"><div class=\"sk-label-container\"><div class=\"sk-label sk-toggleable\"><input class=\"sk-toggleable__control sk-hidden--visually\" id=\"sk-estimator-id-1\" type=\"checkbox\" ><label for=\"sk-estimator-id-1\" class=\"sk-toggleable__label sk-toggleable__label-arrow\">Pipeline</label><div class=\"sk-toggleable__content\"><pre>Pipeline(steps=[(&#x27;tfidf&#x27;, TfidfVectorizer()), (&#x27;clf&#x27;, MultinomialNB())])</pre></div></div></div><div class=\"sk-serial\"><div class=\"sk-item\"><div class=\"sk-estimator sk-toggleable\"><input class=\"sk-toggleable__control sk-hidden--visually\" id=\"sk-estimator-id-2\" type=\"checkbox\" ><label for=\"sk-estimator-id-2\" class=\"sk-toggleable__label sk-toggleable__label-arrow\">TfidfVectorizer</label><div class=\"sk-toggleable__content\"><pre>TfidfVectorizer()</pre></div></div></div><div class=\"sk-item\"><div class=\"sk-estimator sk-toggleable\"><input class=\"sk-toggleable__control sk-hidden--visually\" id=\"sk-estimator-id-3\" type=\"checkbox\" ><label for=\"sk-estimator-id-3\" class=\"sk-toggleable__label sk-toggleable__label-arrow\">MultinomialNB</label><div class=\"sk-toggleable__content\"><pre>MultinomialNB()</pre></div></div></div></div></div></div></div>"
      ],
      "text/plain": [
       "Pipeline(steps=[('tfidf', TfidfVectorizer()), ('clf', MultinomialNB())])"
      ]
     },
     "execution_count": 26,
     "metadata": {},
     "output_type": "execute_result"
    }
   ],
   "source": [
    "from sklearn.feature_extraction.text import TfidfVectorizer\n",
    "from sklearn.naive_bayes import MultinomialNB\n",
    "from sklearn.pipeline import Pipeline\n",
    "\n",
    "# Create tokenization and modelling pipeline\n",
    "model_0 = Pipeline([\n",
    "                    (\"tfidf\", TfidfVectorizer()), # convert words to numbers\n",
    "                    (\"clf\", MultinomialNB()) # model the text\n",
    "])\n",
    "\n",
    "# Fit the pipeline to the training data\n",
    "model_0.fit(train_sentences, train_labels)"
   ]
  },
  {
   "cell_type": "markdown",
   "id": "24953594-cb01-4432-a1e3-376e3db54a77",
   "metadata": {},
   "source": [
    "### Evaluate Model"
   ]
  },
  {
   "cell_type": "code",
   "execution_count": 27,
   "id": "fc718588-1a64-42d6-8de0-e85fa76d8e22",
   "metadata": {},
   "outputs": [
    {
     "name": "stdout",
     "output_type": "stream",
     "text": [
      "Our baseline model achieves an accuracy of: 79.27%\n"
     ]
    }
   ],
   "source": [
    "# Evaluate our baseline model\n",
    "baseline_score = model_0.score(val_sentences, val_labels)\n",
    "print(f\"Our baseline model achieves an accuracy of: {baseline_score*100:.2f}%\")"
   ]
  },
  {
   "cell_type": "code",
   "execution_count": 28,
   "id": "ebb0202c-485f-43c4-9517-0747306fcf8b",
   "metadata": {},
   "outputs": [
    {
     "data": {
      "text/plain": [
       "array([1, 1, 1, 0, 0, 1, 1, 1, 1, 0, 0, 1, 0, 0, 0, 0, 0, 0, 0, 1],\n",
       "      dtype=int64)"
      ]
     },
     "execution_count": 28,
     "metadata": {},
     "output_type": "execute_result"
    }
   ],
   "source": [
    "# Make predictions\n",
    "baseline_preds = model_0.predict(val_sentences)\n",
    "baseline_preds[:20]"
   ]
  },
  {
   "cell_type": "code",
   "execution_count": 30,
   "id": "d00f1788-1df2-4cdc-b387-f34235ba71be",
   "metadata": {},
   "outputs": [
    {
     "data": {
      "text/plain": [
       "{'accuracy': 79.26509186351706,\n",
       " 'precision': 0.8111390004213173,\n",
       " 'recall': 0.7926509186351706,\n",
       " 'f1': 0.7862189758049549}"
      ]
     },
     "execution_count": 30,
     "metadata": {},
     "output_type": "execute_result"
    }
   ],
   "source": [
    "# Get baseline results\n",
    "baseline_results = calculate_results(y_true=val_labels,\n",
    "                                     y_pred=baseline_preds)\n",
    "baseline_results"
   ]
  },
  {
   "cell_type": "markdown",
   "id": "f782b2f5-0602-4dd0-a21b-451fa9ce862b",
   "metadata": {},
   "source": [
    "## Model 1: Feed-forward neural network (Dense model)"
   ]
  },
  {
   "cell_type": "markdown",
   "id": "8d8c6562-eb1f-4b75-87d3-8920a5c546cc",
   "metadata": {},
   "source": [
    "### Create Model"
   ]
  },
  {
   "cell_type": "code",
   "execution_count": 31,
   "id": "a6ab804b-3813-46a5-b85b-88923f72b1e4",
   "metadata": {},
   "outputs": [],
   "source": [
    "# Create a tensorboard callback (need to create a new one for each model)\n",
    "from helper_functions import create_tensorboard_callback\n",
    "\n",
    "# Create a directory to save TensorBoard logs\n",
    "SAVE_DIR = \"model_logs\""
   ]
  },
  {
   "cell_type": "code",
   "execution_count": 32,
   "id": "79d16cc3-c5ec-40c3-9bbc-68ebbebaa505",
   "metadata": {},
   "outputs": [],
   "source": [
    "# Build model with the Functional API\n",
    "from tensorflow.keras import layers\n",
    "inputs = layers.Input(shape=(1,), dtype=tf.string) # inputs are 1-D strings\n",
    "x = text_vectorizer(inputs) # turn the input text into numbers\n",
    "x = embedding(x) # create an embedding of the numberized inputs\n",
    "x = layers.GlobalAveragePooling1D()(x) # condense the feature vector for each vector to one token\n",
    "outputs = layers.Dense(1, activation=\"sigmoid\")(x) # Create the output layer, want binary outputs so use sigmoid activation function\n",
    "model_1 = tf.keras.Model(inputs, outputs, name=\"model_1_dense\")"
   ]
  },
  {
   "cell_type": "code",
   "execution_count": 34,
   "id": "9713f208-b5d3-4b72-bdde-aae936245942",
   "metadata": {},
   "outputs": [],
   "source": [
    "# Compile the model\n",
    "model_1.compile(loss=\"binary_crossentropy\",\n",
    "                optimizer=tf.keras.optimizers.Adam(),\n",
    "                metrics=[\"accuracy\"])"
   ]
  },
  {
   "cell_type": "code",
   "execution_count": 35,
   "id": "2a84527b-5e3c-416a-bc8b-3ca26e3bc2f6",
   "metadata": {},
   "outputs": [
    {
     "name": "stdout",
     "output_type": "stream",
     "text": [
      "Saving TensorBoard log files to: model_logs/model_1_dense/20230817-171255\n",
      "Epoch 1/5\n",
      "215/215 [==============================] - 2s 5ms/step - loss: 0.6124 - accuracy: 0.6907 - val_loss: 0.5346 - val_accuracy: 0.7559\n",
      "Epoch 2/5\n",
      "215/215 [==============================] - 1s 5ms/step - loss: 0.4422 - accuracy: 0.8190 - val_loss: 0.4704 - val_accuracy: 0.7848\n",
      "Epoch 3/5\n",
      "215/215 [==============================] - 1s 5ms/step - loss: 0.3475 - accuracy: 0.8581 - val_loss: 0.4588 - val_accuracy: 0.7927\n",
      "Epoch 4/5\n",
      "215/215 [==============================] - 1s 5ms/step - loss: 0.2849 - accuracy: 0.8889 - val_loss: 0.4606 - val_accuracy: 0.7848\n",
      "Epoch 5/5\n",
      "215/215 [==============================] - 1s 5ms/step - loss: 0.2384 - accuracy: 0.9102 - val_loss: 0.4821 - val_accuracy: 0.7887\n"
     ]
    }
   ],
   "source": [
    "# Fit the model\n",
    "model_1_history = model_1.fit(x=train_sentences,\n",
    "                              y=train_labels,\n",
    "                              epochs=5,\n",
    "                              validation_data=(val_sentences, val_labels),\n",
    "                              callbacks=[create_tensorboard_callback(dir_name=SAVE_DIR,\n",
    "                                                                     experiment_name=\"model_1_dense\")])"
   ]
  },
  {
   "cell_type": "markdown",
   "id": "f95dfde3-cded-4c3e-9af7-9c22a960360b",
   "metadata": {},
   "source": [
    "### Evaluate Model"
   ]
  },
  {
   "cell_type": "code",
   "execution_count": 36,
   "id": "c45de30c-1616-478d-b1ac-247bb7a93380",
   "metadata": {},
   "outputs": [
    {
     "name": "stdout",
     "output_type": "stream",
     "text": [
      "24/24 [==============================] - 0s 3ms/step - loss: 0.4821 - accuracy: 0.7887\n"
     ]
    },
    {
     "data": {
      "text/plain": [
       "[0.4821254014968872, 0.7887139320373535]"
      ]
     },
     "execution_count": 36,
     "metadata": {},
     "output_type": "execute_result"
    }
   ],
   "source": [
    "# Check the results\n",
    "model_1.evaluate(val_sentences, val_labels)"
   ]
  },
  {
   "cell_type": "code",
   "execution_count": 37,
   "id": "93448e68-eb58-410b-8823-9ece32e4cb4c",
   "metadata": {},
   "outputs": [
    {
     "data": {
      "text/plain": [
       "(762, 1)"
      ]
     },
     "execution_count": 37,
     "metadata": {},
     "output_type": "execute_result"
    }
   ],
   "source": [
    "# Make some predictions and evaluate them\n",
    "model_1_pred_probs = model_1.predict(val_sentences)\n",
    "model_1_pred_probs.shape"
   ]
  },
  {
   "cell_type": "code",
   "execution_count": 39,
   "id": "f8127656-6d82-493a-a571-1589b29f53b9",
   "metadata": {},
   "outputs": [
    {
     "data": {
      "text/plain": [
       "<tf.Tensor: shape=(20,), dtype=float32, numpy=\n",
       "array([0., 1., 1., 0., 0., 1., 1., 1., 1., 0., 0., 1., 0., 0., 0., 0., 0.,\n",
       "       0., 0., 0.], dtype=float32)>"
      ]
     },
     "execution_count": 39,
     "metadata": {},
     "output_type": "execute_result"
    }
   ],
   "source": [
    "# Convert model prediction probabilities into label format\n",
    "model_1_preds = tf.squeeze(tf.round(model_1_pred_probs))\n",
    "model_1_preds[:20]"
   ]
  },
  {
   "cell_type": "code",
   "execution_count": 40,
   "id": "a56518fb-eb7e-4fc4-85e3-bcc6cd48c02a",
   "metadata": {},
   "outputs": [
    {
     "data": {
      "text/plain": [
       "{'accuracy': 78.87139107611549,\n",
       " 'precision': 0.7953441303708004,\n",
       " 'recall': 0.7887139107611548,\n",
       " 'f1': 0.7852145092095362}"
      ]
     },
     "execution_count": 40,
     "metadata": {},
     "output_type": "execute_result"
    }
   ],
   "source": [
    "# Calculate our model_1 results\n",
    "model_1_results = calculate_results(y_true=val_labels,\n",
    "                                    y_pred=model_1_preds)\n",
    "model_1_results"
   ]
  },
  {
   "cell_type": "markdown",
   "id": "a3460791-5c4b-4a4e-9822-828d6d5948ec",
   "metadata": {
    "tags": []
   },
   "source": [
    "### Model 1 - Visualized"
   ]
  },
  {
   "cell_type": "code",
   "execution_count": null,
   "id": "d1069f45-def8-4df4-bfdb-235062e11148",
   "metadata": {},
   "outputs": [
    {
     "data": {
      "text/plain": [
       "array([[0.31942767],\n",
       "       [0.69542164],\n",
       "       [0.99750984],\n",
       "       [0.11516048],\n",
       "       [0.12425315],\n",
       "       [0.93559253],\n",
       "       [0.91123885],\n",
       "       [0.9937827 ],\n",
       "       [0.9609585 ],\n",
       "       [0.2799701 ]], dtype=float32)"
      ]
     },
     "execution_count": 38,
     "metadata": {},
     "output_type": "execute_result"
    }
   ],
   "source": [
    "# Look at predictions\n",
    "model_1_pred_probs[:10]"
   ]
  },
  {
   "cell_type": "markdown",
   "id": "4c7ad34d-09d6-47b1-9e6b-951685fd2fc0",
   "metadata": {},
   "source": [
    "## Model 2: LSTM (RNN)"
   ]
  },
  {
   "cell_type": "markdown",
   "id": "9da0a309-5eb8-433e-b4c9-ac8d01273139",
   "metadata": {},
   "source": [
    "### Create Model"
   ]
  },
  {
   "cell_type": "code",
   "execution_count": 46,
   "id": "855b1ca7-0850-4d3f-91ce-497f3e5bc12a",
   "metadata": {},
   "outputs": [],
   "source": [
    "# Create an LSTM Model\n",
    "from tensorflow.keras import layers\n",
    "inputs = layers.Input(shape=(1,), dtype=tf.string)\n",
    "x = text_vectorizer(inputs)\n",
    "x = embedding(x)\n",
    "# print(x.shape)\n",
    "# x = layers.LSTM(units=64, return_sequences=True)(x) # use multiples of 8 to speed up training\n",
    "# print(x.shape) # when you're stacking RNN cells together you need to return sequences = True\n",
    "x = layers.LSTM(64)(x)\n",
    "# print(x.shape)\n",
    "# x = layers.Dense(64, activation=\"relu\")(x)\n",
    "# print(x.shape)\n",
    "outputs = layers.Dense(1, activation=\"sigmoid\")(x)\n",
    "model_2 = tf.keras.Model(inputs, outputs, name=\"model_2_LSTM\")"
   ]
  },
  {
   "cell_type": "code",
   "execution_count": 48,
   "id": "8bced18a-098d-4b0b-8e2b-4fefef450480",
   "metadata": {},
   "outputs": [],
   "source": [
    "# Compile the model\n",
    "model_2.compile(loss=\"binary_crossentropy\",\n",
    "                optimizer=tf.keras.optimizers.Adam(),\n",
    "                metrics=[\"accuracy\"])"
   ]
  },
  {
   "cell_type": "code",
   "execution_count": 49,
   "id": "4fde85fa-44d1-4a6b-9004-5eadac77dc40",
   "metadata": {},
   "outputs": [
    {
     "name": "stdout",
     "output_type": "stream",
     "text": [
      "Saving TensorBoard log files to: model_logs/model_2_LSTM/20230817-171303\n",
      "Epoch 1/5\n",
      "215/215 [==============================] - 4s 10ms/step - loss: 0.2231 - accuracy: 0.9186 - val_loss: 0.5532 - val_accuracy: 0.7835\n",
      "Epoch 2/5\n",
      "215/215 [==============================] - 2s 8ms/step - loss: 0.1544 - accuracy: 0.9415 - val_loss: 0.6665 - val_accuracy: 0.7795\n",
      "Epoch 3/5\n",
      "215/215 [==============================] - 2s 8ms/step - loss: 0.1264 - accuracy: 0.9505 - val_loss: 0.7122 - val_accuracy: 0.7769\n",
      "Epoch 4/5\n",
      "215/215 [==============================] - 2s 8ms/step - loss: 0.1058 - accuracy: 0.9583 - val_loss: 0.9220 - val_accuracy: 0.7782\n",
      "Epoch 5/5\n",
      "215/215 [==============================] - 2s 8ms/step - loss: 0.0844 - accuracy: 0.9680 - val_loss: 0.9515 - val_accuracy: 0.7782\n"
     ]
    }
   ],
   "source": [
    "# Fit the model\n",
    "model_2_history = model_2.fit(train_sentences,\n",
    "                              train_labels,\n",
    "                              epochs=5,\n",
    "                              validation_data=(val_sentences, val_labels),\n",
    "                              callbacks=[create_tensorboard_callback(dir_name=SAVE_DIR,\n",
    "                                                                     experiment_name=\"model_2_LSTM\")])"
   ]
  },
  {
   "cell_type": "markdown",
   "id": "6fd8623e-9127-448b-a480-220a4105c666",
   "metadata": {},
   "source": [
    "### Evaluate Model"
   ]
  },
  {
   "cell_type": "code",
   "execution_count": 50,
   "id": "5b7b907e-3d5f-43db-908d-1ed8bb246c9c",
   "metadata": {},
   "outputs": [
    {
     "data": {
      "text/plain": [
       "array([[6.5548932e-03],\n",
       "       [6.1689508e-01],\n",
       "       [9.9978989e-01],\n",
       "       [3.6965031e-02],\n",
       "       [5.2432891e-04],\n",
       "       [9.9938715e-01],\n",
       "       [8.8216001e-01],\n",
       "       [9.9986124e-01],\n",
       "       [9.9978215e-01],\n",
       "       [4.9197808e-01]], dtype=float32)"
      ]
     },
     "execution_count": 50,
     "metadata": {},
     "output_type": "execute_result"
    }
   ],
   "source": [
    "# Make predictions with LSTM model\n",
    "model_2_pred_probs = model_2.predict(val_sentences)\n",
    "model_2_pred_probs[:10]"
   ]
  },
  {
   "cell_type": "code",
   "execution_count": 51,
   "id": "cc5395cf-faf5-487c-b374-8a4405d4b23e",
   "metadata": {},
   "outputs": [
    {
     "data": {
      "text/plain": [
       "<tf.Tensor: shape=(10,), dtype=float32, numpy=array([0., 1., 1., 0., 0., 1., 1., 1., 1., 0.], dtype=float32)>"
      ]
     },
     "execution_count": 51,
     "metadata": {},
     "output_type": "execute_result"
    }
   ],
   "source": [
    "# Convert model_2 pred probs to labels\n",
    "model_2_preds = tf.squeeze(tf.round(model_2_pred_probs))\n",
    "model_2_preds[:10]"
   ]
  },
  {
   "cell_type": "code",
   "execution_count": 52,
   "id": "75d8329f-439d-4b29-b1c1-6de3be656cbd",
   "metadata": {},
   "outputs": [
    {
     "data": {
      "text/plain": [
       "{'accuracy': 77.82152230971128,\n",
       " 'precision': 0.7788175714535679,\n",
       " 'recall': 0.7782152230971129,\n",
       " 'f1': 0.7768408365477965}"
      ]
     },
     "execution_count": 52,
     "metadata": {},
     "output_type": "execute_result"
    }
   ],
   "source": [
    "# Calculate model 2 results\n",
    "model_2_results = calculate_results(val_labels,\n",
    "                                    model_2_preds)\n",
    "model_2_results"
   ]
  },
  {
   "cell_type": "markdown",
   "id": "96147eed-5bfe-4b8f-93ea-8544addcbe36",
   "metadata": {},
   "source": [
    "## Model 3: GRU (RNN)"
   ]
  },
  {
   "cell_type": "markdown",
   "id": "f93c24d5-df5a-4565-b285-6408f54cbd42",
   "metadata": {},
   "source": [
    "### Create Model"
   ]
  },
  {
   "cell_type": "code",
   "execution_count": 53,
   "id": "ad1fd49b-6d6f-4a53-828a-d97c815cf419",
   "metadata": {},
   "outputs": [],
   "source": [
    "# Build an RNN using the GRU cell\n",
    "from tensorflow.keras import layers\n",
    "inputs = layers.Input(shape=(1,), dtype=tf.string)\n",
    "x = text_vectorizer(inputs)\n",
    "x = embedding(x)\n",
    "x = layers.GRU(64)(x) # if you want to stack recurrent layers on top of each other you need return_sequences=True\n",
    "# x = layers.LSTM(64, return_sequences=True)(x)\n",
    "# x = layers.GRU(64)(x)\n",
    "# x = layers.Dense(64, activation=\"relu\")(x)\n",
    "outputs = layers.Dense(1, activation=\"sigmoid\")(x)\n",
    "model_3 = tf.keras.Model(inputs, outputs, name=\"model_3_GRU\")"
   ]
  },
  {
   "cell_type": "code",
   "execution_count": 55,
   "id": "abd676a1-e249-40a6-a5c7-be538512c78d",
   "metadata": {},
   "outputs": [],
   "source": [
    "# Compile the model\n",
    "model_3.compile(loss=\"binary_crossentropy\",\n",
    "                optimizer=tf.keras.optimizers.Adam(),\n",
    "                metrics=[\"accuracy\"])"
   ]
  },
  {
   "cell_type": "code",
   "execution_count": 56,
   "id": "1a38a7db-ab27-40d3-909d-953e964ba50a",
   "metadata": {},
   "outputs": [
    {
     "name": "stdout",
     "output_type": "stream",
     "text": [
      "Saving TensorBoard log files to: model_logs/model_3_GRU/20230817-171314\n",
      "Epoch 1/5\n",
      "215/215 [==============================] - 3s 9ms/step - loss: 0.1557 - accuracy: 0.9368 - val_loss: 0.8798 - val_accuracy: 0.7756\n",
      "Epoch 2/5\n",
      "215/215 [==============================] - 1s 6ms/step - loss: 0.0838 - accuracy: 0.9693 - val_loss: 0.7849 - val_accuracy: 0.7703\n",
      "Epoch 3/5\n",
      "215/215 [==============================] - 1s 6ms/step - loss: 0.0772 - accuracy: 0.9702 - val_loss: 0.8091 - val_accuracy: 0.7730\n",
      "Epoch 4/5\n",
      "215/215 [==============================] - 1s 6ms/step - loss: 0.0619 - accuracy: 0.9749 - val_loss: 1.0713 - val_accuracy: 0.7743\n",
      "Epoch 5/5\n",
      "215/215 [==============================] - 1s 6ms/step - loss: 0.0550 - accuracy: 0.9772 - val_loss: 1.1742 - val_accuracy: 0.7703\n"
     ]
    }
   ],
   "source": [
    "# Fit the model\n",
    "model_3_history = model_3.fit(train_sentences,\n",
    "                              train_labels,\n",
    "                              epochs=5,\n",
    "                              validation_data=(val_sentences, val_labels),\n",
    "                              callbacks=[create_tensorboard_callback(dir_name=SAVE_DIR,\n",
    "                                                                     experiment_name=\"model_3_GRU\")])"
   ]
  },
  {
   "cell_type": "markdown",
   "id": "0967414e-0252-428d-bd15-84ebb1b98e39",
   "metadata": {},
   "source": [
    "### Evaluate Model"
   ]
  },
  {
   "cell_type": "code",
   "execution_count": 57,
   "id": "199dcdcc-b0e3-45ae-a4ce-b3b811040aa1",
   "metadata": {},
   "outputs": [],
   "source": [
    "# Make some predictions with our GRU model\n",
    "model_3_pred_probs = model_3.predict(val_sentences)"
   ]
  },
  {
   "cell_type": "code",
   "execution_count": 58,
   "id": "9f477f04-4ad8-4de0-aa41-bd6b0e729a60",
   "metadata": {},
   "outputs": [
    {
     "data": {
      "text/plain": [
       "<tf.Tensor: shape=(10,), dtype=float32, numpy=array([0., 1., 1., 0., 0., 1., 1., 1., 1., 1.], dtype=float32)>"
      ]
     },
     "execution_count": 58,
     "metadata": {},
     "output_type": "execute_result"
    }
   ],
   "source": [
    "# Convert model 3 pred probs to labels\n",
    "model_3_preds = tf.squeeze(tf.round(model_3_pred_probs))\n",
    "model_3_preds[:10]"
   ]
  },
  {
   "cell_type": "code",
   "execution_count": 59,
   "id": "8d10f5ec-aa68-4af6-b8f5-bf20a4789f02",
   "metadata": {},
   "outputs": [
    {
     "data": {
      "text/plain": [
       "{'accuracy': 77.03412073490814,\n",
       " 'precision': 0.7701208199177533,\n",
       " 'recall': 0.7703412073490814,\n",
       " 'f1': 0.7695203715374298}"
      ]
     },
     "execution_count": 59,
     "metadata": {},
     "output_type": "execute_result"
    }
   ],
   "source": [
    "# Calculate model 3 results\n",
    "model_3_results = calculate_results(val_labels,\n",
    "                                    model_3_preds)\n",
    "model_3_results"
   ]
  },
  {
   "cell_type": "markdown",
   "id": "935b9aeb-2151-47b6-a80f-57d1aa779b73",
   "metadata": {
    "tags": []
   },
   "source": [
    "## Model 4: Bidirectional RNN"
   ]
  },
  {
   "cell_type": "markdown",
   "id": "f4eb3003-18c1-4a3e-b0cb-8e77660a7e9f",
   "metadata": {},
   "source": [
    "### Create Model"
   ]
  },
  {
   "cell_type": "code",
   "execution_count": 60,
   "id": "6abb61e4-d64b-469e-8553-fc54e72a19b2",
   "metadata": {},
   "outputs": [],
   "source": [
    "# Build a bidirectional RNN in TensorFlow\n",
    "from tensorflow.keras import layers\n",
    "inputs = layers.Input(shape=(1,), dtype=tf.string)\n",
    "x = text_vectorizer(inputs)\n",
    "x = embedding(x)\n",
    "# x = layers.Bidirectional(layers.GRU(64, return_sequences=True))(x)\n",
    "x = layers.Bidirectional(layers.LSTM(64))(x)\n",
    "outputs = layers.Dense(1, activation=\"sigmoid\")(x)\n",
    "model_4 = tf.keras.Model(inputs, outputs, name=\"model_4_bidirectional\")"
   ]
  },
  {
   "cell_type": "code",
   "execution_count": 62,
   "id": "10379362-d80b-4a51-bba6-71fd3dc04a22",
   "metadata": {},
   "outputs": [],
   "source": [
    "# Compile model\n",
    "model_4.compile(loss=\"binary_crossentropy\",\n",
    "                optimizer=tf.keras.optimizers.Adam(),\n",
    "                metrics=[\"accuracy\"])"
   ]
  },
  {
   "cell_type": "code",
   "execution_count": 63,
   "id": "14c45d2e-9905-458e-ba54-f00cebadd335",
   "metadata": {},
   "outputs": [
    {
     "name": "stdout",
     "output_type": "stream",
     "text": [
      "Saving TensorBoard log files to: model_logs/model_4_bidirectional/20230817-171323\n",
      "Epoch 1/5\n",
      "215/215 [==============================] - 5s 14ms/step - loss: 0.1002 - accuracy: 0.9708 - val_loss: 0.9960 - val_accuracy: 0.7730\n",
      "Epoch 2/5\n",
      "215/215 [==============================] - 2s 11ms/step - loss: 0.0561 - accuracy: 0.9752 - val_loss: 1.2999 - val_accuracy: 0.7651\n",
      "Epoch 3/5\n",
      "215/215 [==============================] - 2s 11ms/step - loss: 0.0440 - accuracy: 0.9810 - val_loss: 1.4107 - val_accuracy: 0.7638\n",
      "Epoch 4/5\n",
      "215/215 [==============================] - 2s 11ms/step - loss: 0.0458 - accuracy: 0.9793 - val_loss: 1.2057 - val_accuracy: 0.7598\n",
      "Epoch 5/5\n",
      "215/215 [==============================] - 2s 11ms/step - loss: 0.0413 - accuracy: 0.9800 - val_loss: 1.4789 - val_accuracy: 0.7651\n"
     ]
    }
   ],
   "source": [
    "# Fit the model\n",
    "model_4_history = model_4.fit(train_sentences,\n",
    "                              train_labels,\n",
    "                              epochs=5,\n",
    "                              validation_data=(val_sentences, val_labels),\n",
    "                              callbacks=[create_tensorboard_callback(SAVE_DIR,\n",
    "                                                                     \"model_4_bidirectional\")])"
   ]
  },
  {
   "cell_type": "markdown",
   "id": "67d74448-41e9-40e5-89ff-0eb3527ff6f3",
   "metadata": {},
   "source": [
    "### Evaluate Model"
   ]
  },
  {
   "cell_type": "code",
   "execution_count": 64,
   "id": "58c57b5a-c5a6-4192-a376-4b649f23462a",
   "metadata": {},
   "outputs": [],
   "source": [
    "# Make the predictions\n",
    "model_4_pred_probs = model_4.predict(val_sentences)"
   ]
  },
  {
   "cell_type": "code",
   "execution_count": 65,
   "id": "0ffa12de-e5db-4d5b-a1b5-783d1d56004c",
   "metadata": {},
   "outputs": [
    {
     "data": {
      "text/plain": [
       "<tf.Tensor: shape=(10,), dtype=float32, numpy=array([0., 1., 1., 0., 0., 1., 1., 1., 1., 1.], dtype=float32)>"
      ]
     },
     "execution_count": 65,
     "metadata": {},
     "output_type": "execute_result"
    }
   ],
   "source": [
    "# Convert to pred labels\n",
    "model_4_preds = tf.squeeze(tf.round(model_4_pred_probs))\n",
    "model_4_preds[:10]"
   ]
  },
  {
   "cell_type": "code",
   "execution_count": 66,
   "id": "bc632d29-a220-4e42-af23-da80a954676c",
   "metadata": {},
   "outputs": [
    {
     "data": {
      "text/plain": [
       "{'accuracy': 76.50918635170603,\n",
       " 'precision': 0.7666862986020204,\n",
       " 'recall': 0.7650918635170604,\n",
       " 'f1': 0.7628949062414964}"
      ]
     },
     "execution_count": 66,
     "metadata": {},
     "output_type": "execute_result"
    }
   ],
   "source": [
    "# Calculate results\n",
    "model_4_results = calculate_results(val_labels,\n",
    "                                    model_4_preds)\n",
    "model_4_results"
   ]
  },
  {
   "cell_type": "markdown",
   "id": "71c7d5ac-4caf-4036-ac0b-10cecbda380b",
   "metadata": {},
   "source": [
    "## Model 5: Conv1D (CNN)"
   ]
  },
  {
   "cell_type": "markdown",
   "id": "ea945e1e-c343-4652-9bd1-eef63becc0da",
   "metadata": {},
   "source": [
    "### Create Model"
   ]
  },
  {
   "cell_type": "code",
   "execution_count": 72,
   "id": "d37ce27d-9891-457f-ac41-6f9868b70ad0",
   "metadata": {},
   "outputs": [
    {
     "name": "stdout",
     "output_type": "stream",
     "text": [
      "Model: \"model_5_Conv1D\"\n",
      "_________________________________________________________________\n",
      " Layer (type)                Output Shape              Param #   \n",
      "=================================================================\n",
      " input_5 (InputLayer)        [(None, 1)]               0         \n",
      "                                                                 \n",
      " text_vectorization_1 (TextV  (None, 15)               0         \n",
      " ectorization)                                                   \n",
      "                                                                 \n",
      " embedding (Embedding)       (None, 15, 128)           1280000   \n",
      "                                                                 \n",
      " conv1d_2 (Conv1D)           (None, 11, 64)            41024     \n",
      "                                                                 \n",
      " global_max_pooling1d_1 (Glo  (None, 64)               0         \n",
      " balMaxPooling1D)                                                \n",
      "                                                                 \n",
      " dense_4 (Dense)             (None, 1)                 65        \n",
      "                                                                 \n",
      "=================================================================\n",
      "Total params: 1,321,089\n",
      "Trainable params: 1,321,089\n",
      "Non-trainable params: 0\n",
      "_________________________________________________________________\n"
     ]
    }
   ],
   "source": [
    "# Create a 1-D CNN layer to model sequences\n",
    "from tensorflow.keras import layers\n",
    "inputs = layers.Input(shape=(1,), dtype=tf.string)\n",
    "x = text_vectorizer(inputs)\n",
    "x = embedding(x)\n",
    "x = layers.Conv1D(filters=64, kernel_size=5, activation=\"relu\", padding=\"valid\")(x)\n",
    "x = layers.GlobalMaxPool1D()(x)\n",
    "# x = layers.Dense(64, activation=\"relu\")(x)\n",
    "outputs = layers.Dense(1, activation=\"sigmoid\")(x)\n",
    "model_5 = tf.keras.Model(inputs, outputs, name=\"model_5_Conv1D\")\n",
    "\n",
    "# Compile\n",
    "model_5.compile(loss=\"binary_crossentropy\",\n",
    "                optimizer=tf.keras.optimizers.Adam(),\n",
    "                metrics=[\"accuracy\"])\n",
    "\n",
    "model_5.summary()"
   ]
  },
  {
   "cell_type": "code",
   "execution_count": 73,
   "id": "c8ea7472-c1e6-4cb0-b063-21580024b2cc",
   "metadata": {},
   "outputs": [
    {
     "name": "stdout",
     "output_type": "stream",
     "text": [
      "Saving TensorBoard log files to: model_logs/model_5_Conv1D/20230817-171356\n",
      "Epoch 1/5\n",
      "215/215 [==============================] - 2s 7ms/step - loss: 0.1277 - accuracy: 0.9545 - val_loss: 0.9297 - val_accuracy: 0.7717\n",
      "Epoch 2/5\n",
      "215/215 [==============================] - 1s 5ms/step - loss: 0.0752 - accuracy: 0.9729 - val_loss: 1.0524 - val_accuracy: 0.7690\n",
      "Epoch 3/5\n",
      "215/215 [==============================] - 1s 5ms/step - loss: 0.0592 - accuracy: 0.9772 - val_loss: 1.1722 - val_accuracy: 0.7598\n",
      "Epoch 4/5\n",
      "215/215 [==============================] - 1s 6ms/step - loss: 0.0554 - accuracy: 0.9756 - val_loss: 1.3166 - val_accuracy: 0.7598\n",
      "Epoch 5/5\n",
      "215/215 [==============================] - 1s 6ms/step - loss: 0.0508 - accuracy: 0.9784 - val_loss: 1.2607 - val_accuracy: 0.7572\n"
     ]
    }
   ],
   "source": [
    "# Fit the model\n",
    "model_5_history = model_5.fit(train_sentences,\n",
    "                              train_labels,\n",
    "                              epochs=5,\n",
    "                              validation_data=(val_sentences, val_labels),\n",
    "                              callbacks=[create_tensorboard_callback(SAVE_DIR,\n",
    "                                                                     \"model_5_Conv1D\")])"
   ]
  },
  {
   "cell_type": "markdown",
   "id": "b2c25d20-8aa6-4166-ad5c-2135e47ad2ca",
   "metadata": {},
   "source": [
    "### Evaluate Model"
   ]
  },
  {
   "cell_type": "code",
   "execution_count": 74,
   "id": "291f03a1-8a78-413f-8236-25cc32b64677",
   "metadata": {},
   "outputs": [
    {
     "data": {
      "text/plain": [
       "array([[1.16310745e-01],\n",
       "       [8.25732172e-01],\n",
       "       [9.99884367e-01],\n",
       "       [5.46054170e-02],\n",
       "       [3.20239934e-07],\n",
       "       [9.99344766e-01],\n",
       "       [9.85822737e-01],\n",
       "       [9.99987841e-01],\n",
       "       [9.99999166e-01],\n",
       "       [9.36842144e-01]], dtype=float32)"
      ]
     },
     "execution_count": 74,
     "metadata": {},
     "output_type": "execute_result"
    }
   ],
   "source": [
    "# Make some predictions\n",
    "model_5_pred_probs = model_5.predict(val_sentences)\n",
    "model_5_pred_probs[:10]"
   ]
  },
  {
   "cell_type": "code",
   "execution_count": 75,
   "id": "f930efe4-cea8-47cd-8298-1dee97d0f89b",
   "metadata": {},
   "outputs": [
    {
     "data": {
      "text/plain": [
       "<tf.Tensor: shape=(10,), dtype=float32, numpy=array([0., 1., 1., 0., 0., 1., 1., 1., 1., 1.], dtype=float32)>"
      ]
     },
     "execution_count": 75,
     "metadata": {},
     "output_type": "execute_result"
    }
   ],
   "source": [
    "# Convert to labels\n",
    "model_5_preds = tf.squeeze(tf.round(model_5_pred_probs))\n",
    "model_5_preds[:10]"
   ]
  },
  {
   "cell_type": "code",
   "execution_count": 76,
   "id": "61e06d6e-dfb7-4b4f-8677-051e2677a52f",
   "metadata": {},
   "outputs": [
    {
     "data": {
      "text/plain": [
       "{'accuracy': 75.7217847769029,\n",
       " 'precision': 0.7572094843193692,\n",
       " 'recall': 0.7572178477690289,\n",
       " 'f1': 0.7559398344614434}"
      ]
     },
     "execution_count": 76,
     "metadata": {},
     "output_type": "execute_result"
    }
   ],
   "source": [
    "# Evaluate model 5 predictions\n",
    "model_5_results = calculate_results(val_labels,\n",
    "                                    model_5_preds)\n",
    "model_5_results"
   ]
  },
  {
   "cell_type": "markdown",
   "id": "0df18030-3044-472a-b520-4100b121de99",
   "metadata": {
    "tags": []
   },
   "source": [
    "### Model 5 - Visualized"
   ]
  },
  {
   "cell_type": "code",
   "execution_count": 68,
   "id": "4e512024-f870-4b19-a29c-ef2cbb340218",
   "metadata": {},
   "outputs": [
    {
     "data": {
      "text/plain": [
       "(TensorShape([1, 15, 128]), TensorShape([1, 15, 32]), TensorShape([1, 32]))"
      ]
     },
     "execution_count": 68,
     "metadata": {},
     "output_type": "execute_result"
    }
   ],
   "source": [
    "# Test out our embedding layer, Conv1D layer and max pooling\n",
    "from tensorflow.keras import layers\n",
    "\n",
    "embedding_test = embedding(text_vectorizer([\"this is a test sentence\"])) # turn target sequence into embedding\n",
    "conv_1d = layers.Conv1D(filters=32,\n",
    "                        kernel_size=5,\n",
    "                        activation=\"relu\",\n",
    "                        padding=\"same\")\n",
    "conv_1d_output = conv_1d(embedding_test) # pass test embedding through Conv1D layer\n",
    "max_pool = layers.GlobalMaxPool1D()\n",
    "max_pool_output = max_pool(conv_1d_output) # equivalent to \"get the most important features\"\n",
    "\n",
    "embedding_test.shape, conv_1d_output.shape, max_pool_output.shape"
   ]
  },
  {
   "cell_type": "markdown",
   "id": "1657c0ad-b849-47e7-a569-ce889180fcb1",
   "metadata": {},
   "source": [
    "## Model 6: TF Hub Pretrained USE (100% Data)\n",
    "\n",
    "Let's use Tensorflow Hub's Universal Sentence Encoder"
   ]
  },
  {
   "cell_type": "markdown",
   "id": "680c6beb-265c-44b3-a755-4d5c0b814f20",
   "metadata": {},
   "source": [
    "### Create Model"
   ]
  },
  {
   "cell_type": "code",
   "execution_count": null,
   "id": "74866da9-dc03-45ed-805b-8a7c6cacbc58",
   "metadata": {},
   "outputs": [],
   "source": [
    "import tensorflow_hub as hub"
   ]
  },
  {
   "cell_type": "code",
   "execution_count": 79,
   "id": "3da1f490-8d28-4061-9af8-ab1e909792dd",
   "metadata": {},
   "outputs": [],
   "source": [
    "# Create a Keras layer using the USE pretrained layer from tensorflow hub\n",
    "sentence_encoder_layer = hub.KerasLayer(\"https://tfhub.dev/google/universal-sentence-encoder/4\",\n",
    "                                        input_shape=[],\n",
    "                                        dtype=tf.string,\n",
    "                                        trainable=False,\n",
    "                                        name=\"USE\")"
   ]
  },
  {
   "cell_type": "code",
   "execution_count": 80,
   "id": "0cc2779e-005e-46f8-9474-43ff229c1927",
   "metadata": {},
   "outputs": [
    {
     "name": "stdout",
     "output_type": "stream",
     "text": [
      "Model: \"model_6_USE\"\n",
      "_________________________________________________________________\n",
      " Layer (type)                Output Shape              Param #   \n",
      "=================================================================\n",
      " USE (KerasLayer)            (None, 512)               256797824 \n",
      "                                                                 \n",
      " dense_5 (Dense)             (None, 64)                32832     \n",
      "                                                                 \n",
      " dense_6 (Dense)             (None, 1)                 65        \n",
      "                                                                 \n",
      "=================================================================\n",
      "Total params: 256,830,721\n",
      "Trainable params: 32,897\n",
      "Non-trainable params: 256,797,824\n",
      "_________________________________________________________________\n"
     ]
    }
   ],
   "source": [
    "# Create model using the Sequential API\n",
    "model_6 = tf.keras.Sequential([\n",
    "    sentence_encoder_layer,\n",
    "    layers.Dense(64, activation=\"relu\"),\n",
    "    layers.Dense(1, activation=\"sigmoid\")\n",
    "], name=\"model_6_USE\")\n",
    "\n",
    "# Compile\n",
    "model_6.compile(loss=\"binary_crossentropy\",\n",
    "                optimizer=tf.keras.optimizers.Adam(),\n",
    "                metrics=[\"accuracy\"])\n",
    "\n",
    "model_6.summary()"
   ]
  },
  {
   "cell_type": "code",
   "execution_count": 81,
   "id": "426e31ad-905e-4063-975f-2f86a855b889",
   "metadata": {},
   "outputs": [
    {
     "name": "stdout",
     "output_type": "stream",
     "text": [
      "Saving TensorBoard log files to: model_logs/model_6_USE/20230817-171415\n",
      "Epoch 1/5\n",
      "215/215 [==============================] - 5s 15ms/step - loss: 0.5050 - accuracy: 0.7878 - val_loss: 0.4493 - val_accuracy: 0.8018\n",
      "Epoch 2/5\n",
      "215/215 [==============================] - 3s 13ms/step - loss: 0.4145 - accuracy: 0.8135 - val_loss: 0.4393 - val_accuracy: 0.8084\n",
      "Epoch 3/5\n",
      "215/215 [==============================] - 3s 14ms/step - loss: 0.4011 - accuracy: 0.8232 - val_loss: 0.4361 - val_accuracy: 0.8084\n",
      "Epoch 4/5\n",
      "215/215 [==============================] - 3s 13ms/step - loss: 0.3928 - accuracy: 0.8260 - val_loss: 0.4286 - val_accuracy: 0.8176\n",
      "Epoch 5/5\n",
      "215/215 [==============================] - 3s 14ms/step - loss: 0.3856 - accuracy: 0.8310 - val_loss: 0.4252 - val_accuracy: 0.8189\n"
     ]
    }
   ],
   "source": [
    "# Train a classifier on top of USE pretrained embeddings\n",
    "model_6_history = model_6.fit(train_sentences,\n",
    "                              train_labels,\n",
    "                              epochs=5,\n",
    "                              validation_data=(val_sentences, val_labels),\n",
    "                              callbacks=[create_tensorboard_callback(SAVE_DIR,\n",
    "                                                                     \"model_6_USE\")])"
   ]
  },
  {
   "cell_type": "markdown",
   "id": "1f8cb4c8-3398-4b3c-9675-7e5f600ddc90",
   "metadata": {},
   "source": [
    "### Evaluate Model"
   ]
  },
  {
   "cell_type": "code",
   "execution_count": 82,
   "id": "5a1f053b-356d-43e7-a0f1-0f8fc7b888cb",
   "metadata": {},
   "outputs": [
    {
     "data": {
      "text/plain": [
       "array([[0.17693938],\n",
       "       [0.78890705],\n",
       "       [0.98894125],\n",
       "       [0.22140625],\n",
       "       [0.72173214],\n",
       "       [0.74509835],\n",
       "       [0.9844577 ],\n",
       "       [0.9838181 ],\n",
       "       [0.9462686 ],\n",
       "       [0.08674148]], dtype=float32)"
      ]
     },
     "execution_count": 82,
     "metadata": {},
     "output_type": "execute_result"
    }
   ],
   "source": [
    "# Make predictions with USE TF Hub Model\n",
    "model_6_pred_probs = model_6.predict(val_sentences)\n",
    "model_6_pred_probs[:10]"
   ]
  },
  {
   "cell_type": "code",
   "execution_count": 83,
   "id": "1d0d78c3-ecd8-488a-8367-7198fa75342b",
   "metadata": {},
   "outputs": [],
   "source": [
    "# Convert to labels\n",
    "model_6_preds = tf.squeeze(tf.round(model_6_pred_probs))"
   ]
  },
  {
   "cell_type": "code",
   "execution_count": 84,
   "id": "a434e485-895f-4a16-8c5c-3cfc70cd0ade",
   "metadata": {},
   "outputs": [
    {
     "data": {
      "text/plain": [
       "{'accuracy': 81.88976377952756,\n",
       " 'precision': 0.8203089036947304,\n",
       " 'recall': 0.8188976377952756,\n",
       " 'f1': 0.8177314483416845}"
      ]
     },
     "execution_count": 84,
     "metadata": {},
     "output_type": "execute_result"
    }
   ],
   "source": [
    "# Calculate results\n",
    "model_6_results = calculate_results(val_labels,\n",
    "                                    model_6_preds)\n",
    "model_6_results"
   ]
  },
  {
   "cell_type": "code",
   "execution_count": 85,
   "id": "c1a63269-d8a6-4338-b9c4-e53ca6bf5659",
   "metadata": {},
   "outputs": [
    {
     "data": {
      "text/plain": [
       "{'accuracy': 79.26509186351706,\n",
       " 'precision': 0.8111390004213173,\n",
       " 'recall': 0.7926509186351706,\n",
       " 'f1': 0.7862189758049549}"
      ]
     },
     "execution_count": 85,
     "metadata": {},
     "output_type": "execute_result"
    }
   ],
   "source": [
    "baseline_results"
   ]
  },
  {
   "cell_type": "markdown",
   "id": "8cf1fb19-f3d0-4828-bdaf-f824df0fd1c8",
   "metadata": {},
   "source": [
    "### Model 6 - Visualized"
   ]
  },
  {
   "cell_type": "code",
   "execution_count": 77,
   "id": "96f7cb02-6e1e-4640-bcca-854ae21feb2f",
   "metadata": {},
   "outputs": [
    {
     "name": "stdout",
     "output_type": "stream",
     "text": [
      "tf.Tensor(\n",
      "[-0.01157028  0.0248591   0.02878048 -0.012715    0.03971538  0.0882776\n",
      "  0.02680984  0.05589836 -0.0106873  -0.00597291  0.00639323 -0.01819518\n",
      "  0.00030813  0.09105888  0.05874644 -0.03180628  0.01512474 -0.05162929\n",
      "  0.00991367 -0.06865347 -0.04209306  0.02678981  0.03011006  0.00321069\n",
      " -0.00337973 -0.04787357  0.0226672  -0.00985925 -0.04063613 -0.01292092\n",
      " -0.04666384  0.05630299 -0.03949255  0.00517686  0.02495829 -0.0701444\n",
      "  0.02871508  0.04947684 -0.00633979 -0.08960192  0.02807118 -0.00808364\n",
      " -0.01360602  0.0599865  -0.10361787 -0.05195374  0.00232954 -0.02332531\n",
      " -0.03758105  0.03327728], shape=(50,), dtype=float32)\n"
     ]
    }
   ],
   "source": [
    "import tensorflow_hub as hub\n",
    "embed = hub.load(\"https://tfhub.dev/google/universal-sentence-encoder/4\")\n",
    "embed_samples = embed([sample_sentence,\n",
    "                       \"When you call the universal sentence encoder on a sentence it turns it into numbers\"])\n",
    "print(embed_samples[0][:50])"
   ]
  },
  {
   "cell_type": "code",
   "execution_count": 78,
   "id": "614e8bad-187e-44d0-a8f0-329d65f60e81",
   "metadata": {},
   "outputs": [
    {
     "data": {
      "text/plain": [
       "TensorShape([2, 512])"
      ]
     },
     "execution_count": 78,
     "metadata": {},
     "output_type": "execute_result"
    }
   ],
   "source": [
    "embed_samples.shape"
   ]
  },
  {
   "cell_type": "markdown",
   "id": "6b605f08-4a43-4d4e-88f9-43b7836eacf2",
   "metadata": {},
   "source": [
    "## Model 7: TF Hub Pretrained USE (10% Data)"
   ]
  },
  {
   "cell_type": "markdown",
   "id": "d50159fe-788c-40e2-8873-b8b40a115583",
   "metadata": {},
   "source": [
    "### Make Data Subset"
   ]
  },
  {
   "cell_type": "code",
   "execution_count": null,
   "id": "291f38c1-265d-4cb9-a91e-33a3a750e2f8",
   "metadata": {},
   "outputs": [],
   "source": [
    "# Making a dataset\n",
    "train_10_percent_split = int(0.1*len(train_sentences))\n",
    "train_sentences_10_percent = train_sentences[:train_10_percent_split]\n",
    "train_labels_10_percent = train_labels[:train_10_percent_split]"
   ]
  },
  {
   "cell_type": "code",
   "execution_count": 88,
   "id": "91cc3327-79f0-477a-843d-8045769bee32",
   "metadata": {},
   "outputs": [
    {
     "data": {
      "text/plain": [
       "0    406\n",
       "1    279\n",
       "Name: count, dtype: int64"
      ]
     },
     "execution_count": 88,
     "metadata": {},
     "output_type": "execute_result"
    }
   ],
   "source": [
    "import numpy as np\n",
    "\n",
    "# Check the number of targets in our subset of data\n",
    "pd.Series(np.array(train_labels_10_percent)).value_counts()"
   ]
  },
  {
   "cell_type": "code",
   "execution_count": 89,
   "id": "7eddf32c-3710-44e5-9e58-5765415afab6",
   "metadata": {},
   "outputs": [
    {
     "data": {
      "text/plain": [
       "target\n",
       "0    4342\n",
       "1    3271\n",
       "Name: count, dtype: int64"
      ]
     },
     "execution_count": 89,
     "metadata": {},
     "output_type": "execute_result"
    }
   ],
   "source": [
    "train_df_shuffled[\"target\"].value_counts()"
   ]
  },
  {
   "cell_type": "markdown",
   "id": "d1eec2bc-bb5e-4f63-95df-dc788f7323f9",
   "metadata": {},
   "source": [
    "### Create Model"
   ]
  },
  {
   "cell_type": "code",
   "execution_count": 90,
   "id": "e5272635-229f-4889-aa5a-d3bcc11278f4",
   "metadata": {},
   "outputs": [
    {
     "name": "stdout",
     "output_type": "stream",
     "text": [
      "Model: \"model_7_USE\"\n",
      "_________________________________________________________________\n",
      " Layer (type)                Output Shape              Param #   \n",
      "=================================================================\n",
      " USE (KerasLayer)            (None, 512)               256797824 \n",
      "                                                                 \n",
      " dense_7 (Dense)             (None, 64)                32832     \n",
      "                                                                 \n",
      " output_layer (Dense)        (None, 1)                 65        \n",
      "                                                                 \n",
      "=================================================================\n",
      "Total params: 256,830,721\n",
      "Trainable params: 32,897\n",
      "Non-trainable params: 256,797,824\n",
      "_________________________________________________________________\n"
     ]
    }
   ],
   "source": [
    "# We want to change the name though so remake it\n",
    "model_7 = tf.keras.Sequential([\n",
    "    sentence_encoder_layer,\n",
    "    layers.Dense(64, activation=\"relu\"),\n",
    "    layers.Dense(1, activation=\"sigmoid\", name=\"output_layer\")\n",
    "], name=\"model_7_USE\")\n",
    "\n",
    "# Compile\n",
    "model_7.compile(loss=\"binary_crossentropy\",\n",
    "                optimizer=tf.keras.optimizers.Adam(),\n",
    "                metrics=[\"accuracy\"])\n",
    "\n",
    "model_7.summary()"
   ]
  },
  {
   "cell_type": "code",
   "execution_count": 91,
   "id": "d46d02d8-333d-478c-a90f-6ec99b5160e6",
   "metadata": {},
   "outputs": [
    {
     "name": "stdout",
     "output_type": "stream",
     "text": [
      "Saving TensorBoard log files to: model_logs/model_7_USE_correct/20230817-171432\n",
      "Epoch 1/5\n",
      "22/22 [==============================] - 2s 42ms/step - loss: 0.6673 - accuracy: 0.6803 - val_loss: 0.6479 - val_accuracy: 0.7113\n",
      "Epoch 2/5\n",
      "22/22 [==============================] - 1s 30ms/step - loss: 0.5976 - accuracy: 0.8000 - val_loss: 0.5911 - val_accuracy: 0.7638\n",
      "Epoch 3/5\n",
      "22/22 [==============================] - 1s 25ms/step - loss: 0.5247 - accuracy: 0.8175 - val_loss: 0.5410 - val_accuracy: 0.7703\n",
      "Epoch 4/5\n",
      "22/22 [==============================] - 1s 24ms/step - loss: 0.4666 - accuracy: 0.8190 - val_loss: 0.5051 - val_accuracy: 0.7756\n",
      "Epoch 5/5\n",
      "22/22 [==============================] - 1s 24ms/step - loss: 0.4243 - accuracy: 0.8321 - val_loss: 0.4940 - val_accuracy: 0.7782\n"
     ]
    }
   ],
   "source": [
    "# Fit the model to 10% of data\n",
    "model_7_history = model_7.fit(train_sentences_10_percent,\n",
    "                              train_labels_10_percent,\n",
    "                              epochs=5,\n",
    "                              validation_data=(val_sentences, val_labels),\n",
    "                              callbacks=[create_tensorboard_callback(SAVE_DIR,\n",
    "                                                                     \"model_7_USE_correct\")])"
   ]
  },
  {
   "cell_type": "markdown",
   "id": "e8c272c3-e945-4e5c-88ac-17f4da7511ee",
   "metadata": {},
   "source": [
    "### Evaluate Model"
   ]
  },
  {
   "cell_type": "code",
   "execution_count": 92,
   "id": "13748bf3-0b76-4b06-baa9-800c116c031e",
   "metadata": {},
   "outputs": [
    {
     "data": {
      "text/plain": [
       "array([[0.20442435],\n",
       "       [0.5790032 ],\n",
       "       [0.8860129 ],\n",
       "       [0.3893892 ],\n",
       "       [0.5530557 ],\n",
       "       [0.7090674 ],\n",
       "       [0.8605538 ],\n",
       "       [0.8009282 ],\n",
       "       [0.8428636 ],\n",
       "       [0.15864077]], dtype=float32)"
      ]
     },
     "execution_count": 92,
     "metadata": {},
     "output_type": "execute_result"
    }
   ],
   "source": [
    "# Make predictions\n",
    "model_7_pred_probs = model_7.predict(val_sentences)\n",
    "model_7_pred_probs[:10]"
   ]
  },
  {
   "cell_type": "code",
   "execution_count": 93,
   "id": "e7c762f6-167e-4ceb-92ca-777a4ad9f9b1",
   "metadata": {},
   "outputs": [
    {
     "data": {
      "text/plain": [
       "<tf.Tensor: shape=(10,), dtype=float32, numpy=array([0., 1., 1., 0., 1., 1., 1., 1., 1., 0.], dtype=float32)>"
      ]
     },
     "execution_count": 93,
     "metadata": {},
     "output_type": "execute_result"
    }
   ],
   "source": [
    "# Turn into labels\n",
    "model_7_preds = tf.squeeze(tf.round(model_7_pred_probs))\n",
    "model_7_preds[:10]"
   ]
  },
  {
   "cell_type": "code",
   "execution_count": 94,
   "id": "9d43a3fa-5449-487f-854c-b2d40ae81f62",
   "metadata": {},
   "outputs": [
    {
     "data": {
      "text/plain": [
       "{'accuracy': 77.82152230971128,\n",
       " 'precision': 0.7790000273393579,\n",
       " 'recall': 0.7782152230971129,\n",
       " 'f1': 0.776732468906972}"
      ]
     },
     "execution_count": 94,
     "metadata": {},
     "output_type": "execute_result"
    }
   ],
   "source": [
    "# Calculate the results\n",
    "model_7_results = calculate_results(val_labels,\n",
    "                                    model_7_preds)\n",
    "model_7_results"
   ]
  },
  {
   "cell_type": "code",
   "execution_count": 95,
   "id": "5d971f44-c345-4d87-8583-e384d858d0ed",
   "metadata": {},
   "outputs": [
    {
     "data": {
      "text/plain": [
       "{'accuracy': 81.88976377952756,\n",
       " 'precision': 0.8203089036947304,\n",
       " 'recall': 0.8188976377952756,\n",
       " 'f1': 0.8177314483416845}"
      ]
     },
     "execution_count": 95,
     "metadata": {},
     "output_type": "execute_result"
    }
   ],
   "source": [
    "model_6_results"
   ]
  },
  {
   "cell_type": "markdown",
   "id": "9dbdb658-9a18-4340-af8e-2f15313b3c96",
   "metadata": {},
   "source": [
    "## All Model Results - Visualized"
   ]
  },
  {
   "cell_type": "markdown",
   "id": "649d0e54-eb3d-4ff7-a743-3a678696fe42",
   "metadata": {},
   "source": [
    "### Performance Metrics"
   ]
  },
  {
   "cell_type": "code",
   "execution_count": 96,
   "id": "4a376de2-8da8-49ec-aa6e-b0aa9000a3e9",
   "metadata": {},
   "outputs": [
    {
     "data": {
      "text/html": [
       "<div>\n",
       "<style scoped>\n",
       "    .dataframe tbody tr th:only-of-type {\n",
       "        vertical-align: middle;\n",
       "    }\n",
       "\n",
       "    .dataframe tbody tr th {\n",
       "        vertical-align: top;\n",
       "    }\n",
       "\n",
       "    .dataframe thead th {\n",
       "        text-align: right;\n",
       "    }\n",
       "</style>\n",
       "<table border=\"1\" class=\"dataframe\">\n",
       "  <thead>\n",
       "    <tr style=\"text-align: right;\">\n",
       "      <th></th>\n",
       "      <th>accuracy</th>\n",
       "      <th>precision</th>\n",
       "      <th>recall</th>\n",
       "      <th>f1</th>\n",
       "    </tr>\n",
       "  </thead>\n",
       "  <tbody>\n",
       "    <tr>\n",
       "      <th>0_baseline</th>\n",
       "      <td>79.265092</td>\n",
       "      <td>0.811139</td>\n",
       "      <td>0.792651</td>\n",
       "      <td>0.786219</td>\n",
       "    </tr>\n",
       "    <tr>\n",
       "      <th>1_simple_dense</th>\n",
       "      <td>78.871391</td>\n",
       "      <td>0.795344</td>\n",
       "      <td>0.788714</td>\n",
       "      <td>0.785215</td>\n",
       "    </tr>\n",
       "    <tr>\n",
       "      <th>2_lstm</th>\n",
       "      <td>77.821522</td>\n",
       "      <td>0.778818</td>\n",
       "      <td>0.778215</td>\n",
       "      <td>0.776841</td>\n",
       "    </tr>\n",
       "    <tr>\n",
       "      <th>3_gru</th>\n",
       "      <td>77.034121</td>\n",
       "      <td>0.770121</td>\n",
       "      <td>0.770341</td>\n",
       "      <td>0.769520</td>\n",
       "    </tr>\n",
       "    <tr>\n",
       "      <th>4_bidirectional</th>\n",
       "      <td>76.509186</td>\n",
       "      <td>0.766686</td>\n",
       "      <td>0.765092</td>\n",
       "      <td>0.762895</td>\n",
       "    </tr>\n",
       "    <tr>\n",
       "      <th>5_conv1d</th>\n",
       "      <td>75.721785</td>\n",
       "      <td>0.757209</td>\n",
       "      <td>0.757218</td>\n",
       "      <td>0.755940</td>\n",
       "    </tr>\n",
       "    <tr>\n",
       "      <th>6_use</th>\n",
       "      <td>81.889764</td>\n",
       "      <td>0.820309</td>\n",
       "      <td>0.818898</td>\n",
       "      <td>0.817731</td>\n",
       "    </tr>\n",
       "    <tr>\n",
       "      <th>7_use_10_percent</th>\n",
       "      <td>77.821522</td>\n",
       "      <td>0.779000</td>\n",
       "      <td>0.778215</td>\n",
       "      <td>0.776732</td>\n",
       "    </tr>\n",
       "  </tbody>\n",
       "</table>\n",
       "</div>"
      ],
      "text/plain": [
       "                   accuracy  precision    recall        f1\n",
       "0_baseline        79.265092   0.811139  0.792651  0.786219\n",
       "1_simple_dense    78.871391   0.795344  0.788714  0.785215\n",
       "2_lstm            77.821522   0.778818  0.778215  0.776841\n",
       "3_gru             77.034121   0.770121  0.770341  0.769520\n",
       "4_bidirectional   76.509186   0.766686  0.765092  0.762895\n",
       "5_conv1d          75.721785   0.757209  0.757218  0.755940\n",
       "6_use             81.889764   0.820309  0.818898  0.817731\n",
       "7_use_10_percent  77.821522   0.779000  0.778215  0.776732"
      ]
     },
     "execution_count": 96,
     "metadata": {},
     "output_type": "execute_result"
    }
   ],
   "source": [
    "# Combine model results into a dataframe\n",
    "all_model_results = pd.DataFrame({\"0_baseline\": baseline_results,\n",
    "                                  \"1_simple_dense\": model_1_results,\n",
    "                                  \"2_lstm\": model_2_results,\n",
    "                                  \"3_gru\": model_3_results,\n",
    "                                  \"4_bidirectional\": model_4_results,\n",
    "                                  \"5_conv1d\": model_5_results,\n",
    "                                  \"6_use\": model_6_results,\n",
    "                                  \"7_use_10_percent\": model_7_results})\n",
    "all_model_results = all_model_results.transpose()\n",
    "all_model_results"
   ]
  },
  {
   "cell_type": "code",
   "execution_count": 97,
   "id": "a0cecd82-f323-416b-b7a6-4eb5e9d05175",
   "metadata": {},
   "outputs": [
    {
     "data": {
      "text/html": [
       "<div>\n",
       "<style scoped>\n",
       "    .dataframe tbody tr th:only-of-type {\n",
       "        vertical-align: middle;\n",
       "    }\n",
       "\n",
       "    .dataframe tbody tr th {\n",
       "        vertical-align: top;\n",
       "    }\n",
       "\n",
       "    .dataframe thead th {\n",
       "        text-align: right;\n",
       "    }\n",
       "</style>\n",
       "<table border=\"1\" class=\"dataframe\">\n",
       "  <thead>\n",
       "    <tr style=\"text-align: right;\">\n",
       "      <th></th>\n",
       "      <th>accuracy</th>\n",
       "      <th>precision</th>\n",
       "      <th>recall</th>\n",
       "      <th>f1</th>\n",
       "    </tr>\n",
       "  </thead>\n",
       "  <tbody>\n",
       "    <tr>\n",
       "      <th>0_baseline</th>\n",
       "      <td>0.792651</td>\n",
       "      <td>0.811139</td>\n",
       "      <td>0.792651</td>\n",
       "      <td>0.786219</td>\n",
       "    </tr>\n",
       "    <tr>\n",
       "      <th>1_simple_dense</th>\n",
       "      <td>0.788714</td>\n",
       "      <td>0.795344</td>\n",
       "      <td>0.788714</td>\n",
       "      <td>0.785215</td>\n",
       "    </tr>\n",
       "    <tr>\n",
       "      <th>2_lstm</th>\n",
       "      <td>0.778215</td>\n",
       "      <td>0.778818</td>\n",
       "      <td>0.778215</td>\n",
       "      <td>0.776841</td>\n",
       "    </tr>\n",
       "    <tr>\n",
       "      <th>3_gru</th>\n",
       "      <td>0.770341</td>\n",
       "      <td>0.770121</td>\n",
       "      <td>0.770341</td>\n",
       "      <td>0.769520</td>\n",
       "    </tr>\n",
       "    <tr>\n",
       "      <th>4_bidirectional</th>\n",
       "      <td>0.765092</td>\n",
       "      <td>0.766686</td>\n",
       "      <td>0.765092</td>\n",
       "      <td>0.762895</td>\n",
       "    </tr>\n",
       "    <tr>\n",
       "      <th>5_conv1d</th>\n",
       "      <td>0.757218</td>\n",
       "      <td>0.757209</td>\n",
       "      <td>0.757218</td>\n",
       "      <td>0.755940</td>\n",
       "    </tr>\n",
       "    <tr>\n",
       "      <th>6_use</th>\n",
       "      <td>0.818898</td>\n",
       "      <td>0.820309</td>\n",
       "      <td>0.818898</td>\n",
       "      <td>0.817731</td>\n",
       "    </tr>\n",
       "    <tr>\n",
       "      <th>7_use_10_percent</th>\n",
       "      <td>0.778215</td>\n",
       "      <td>0.779000</td>\n",
       "      <td>0.778215</td>\n",
       "      <td>0.776732</td>\n",
       "    </tr>\n",
       "  </tbody>\n",
       "</table>\n",
       "</div>"
      ],
      "text/plain": [
       "                  accuracy  precision    recall        f1\n",
       "0_baseline        0.792651   0.811139  0.792651  0.786219\n",
       "1_simple_dense    0.788714   0.795344  0.788714  0.785215\n",
       "2_lstm            0.778215   0.778818  0.778215  0.776841\n",
       "3_gru             0.770341   0.770121  0.770341  0.769520\n",
       "4_bidirectional   0.765092   0.766686  0.765092  0.762895\n",
       "5_conv1d          0.757218   0.757209  0.757218  0.755940\n",
       "6_use             0.818898   0.820309  0.818898  0.817731\n",
       "7_use_10_percent  0.778215   0.779000  0.778215  0.776732"
      ]
     },
     "execution_count": 97,
     "metadata": {},
     "output_type": "execute_result"
    }
   ],
   "source": [
    "# Reduce the accuracy to the same scale as the other metrics\n",
    "all_model_results[\"accuracy\"] = all_model_results['accuracy']/100\n",
    "all_model_results"
   ]
  },
  {
   "cell_type": "code",
   "execution_count": 98,
   "id": "3aa01a47-af0b-4c56-884e-6069f6e59f15",
   "metadata": {},
   "outputs": [
    {
     "data": {
      "text/plain": [
       "<matplotlib.legend.Legend at 0x1a17d54b9d0>"
      ]
     },
     "execution_count": 98,
     "metadata": {},
     "output_type": "execute_result"
    },
    {
     "data": {
      "image/png": "[encoded data removed]",
      "text/plain": [
       "<Figure size 1000x700 with 1 Axes>"
      ]
     },
     "metadata": {},
     "output_type": "display_data"
    }
   ],
   "source": [
    "# Plot and compare all of the model results\n",
    "all_model_results.plot(kind=\"bar\", figsize=(10,7)).legend(bbox_to_anchor=(1.0, 1.0))"
   ]
  },
  {
   "cell_type": "code",
   "execution_count": 99,
   "id": "a897b38c-b49d-4e79-a450-21f906c54127",
   "metadata": {},
   "outputs": [
    {
     "data": {
      "image/png": "[encoded data removed]",
      "text/plain": [
       "<Figure size 1000x700 with 1 Axes>"
      ]
     },
     "metadata": {},
     "output_type": "display_data"
    }
   ],
   "source": [
    "# Sort model results by f1-score\n",
    "all_model_results.sort_values(\"f1\", ascending=False)[\"f1\"].plot(kind=\"bar\", figsize=(10,7));"
   ]
  },
  {
   "cell_type": "markdown",
   "id": "dd5d1ace-329b-47b5-9bde-e5b1447c2381",
   "metadata": {},
   "source": [
    "### Evaluate Inference Time"
   ]
  },
  {
   "cell_type": "code",
   "execution_count": 109,
   "id": "ad867dc1-d1dc-48f3-9fb1-a86bd56a9c13",
   "metadata": {},
   "outputs": [
    {
     "data": {
      "text/plain": [
       "{'accuracy': 81.88976377952756,\n",
       " 'precision': 0.8203089036947304,\n",
       " 'recall': 0.8188976377952756,\n",
       " 'f1': 0.8177314483416845}"
      ]
     },
     "execution_count": 109,
     "metadata": {},
     "output_type": "execute_result"
    }
   ],
   "source": [
    "model_6_results"
   ]
  },
  {
   "cell_type": "code",
   "execution_count": 111,
   "id": "22784e46-b709-4bd9-90fb-1ac0ca93f17c",
   "metadata": {},
   "outputs": [
    {
     "data": {
      "text/plain": [
       "{'accuracy': 79.26509186351706,\n",
       " 'precision': 0.8111390004213173,\n",
       " 'recall': 0.7926509186351706,\n",
       " 'f1': 0.7862189758049549}"
      ]
     },
     "execution_count": 111,
     "metadata": {},
     "output_type": "execute_result"
    }
   ],
   "source": [
    "baseline_results"
   ]
  },
  {
   "cell_type": "code",
   "execution_count": 112,
   "id": "dcbfd12b-20fe-40f7-89a3-39ab69736cce",
   "metadata": {},
   "outputs": [],
   "source": [
    "# let's make a function to measure time of prediction\n",
    "import time\n",
    "def pred_timer(model, samples):\n",
    "    \"\"\"\n",
    "    Times how long a model takes to make predictions on samples.\n",
    "    \"\"\"\n",
    "    \n",
    "    start_time = time.perf_counter() # get start time\n",
    "    model.predict(samples)\n",
    "    end_time = time.perf_counter() # get finish time\n",
    "    total_time = end_time-start_time\n",
    "    time_per_pred = total_time/len(samples)\n",
    "    return total_time, time_per_pred"
   ]
  },
  {
   "cell_type": "code",
   "execution_count": 113,
   "id": "583f0e48-de58-4777-9fe2-a04b5b7904be",
   "metadata": {},
   "outputs": [
    {
     "data": {
      "text/plain": [
       "(0.429960299981758, 0.0005642523621807848)"
      ]
     },
     "execution_count": 113,
     "metadata": {},
     "output_type": "execute_result"
    }
   ],
   "source": [
    "# Calculate TF Hub time\n",
    "model_6_total_time, model_6_time_per_pred = pred_timer(model_6,\n",
    "                                                       val_sentences)\n",
    "model_6_total_time, model_6_time_per_pred"
   ]
  },
  {
   "cell_type": "code",
   "execution_count": 114,
   "id": "8d486b90-0cef-4966-9b14-6f3c0db25dd3",
   "metadata": {},
   "outputs": [
    {
     "data": {
      "text/plain": [
       "(0.010297700064256787, 1.3514042079077149e-05)"
      ]
     },
     "execution_count": 114,
     "metadata": {},
     "output_type": "execute_result"
    }
   ],
   "source": [
    "# Calculate baseline model time\n",
    "baseline_total_time, baseline_time_per_pred = pred_timer(model_0,\n",
    "                                                         val_sentences)\n",
    "baseline_total_time, baseline_time_per_pred"
   ]
  },
  {
   "cell_type": "code",
   "execution_count": 117,
   "id": "b4f9bdb1-5b2b-44e8-a6a8-26d6232211ee",
   "metadata": {},
   "outputs": [
    {
     "data": {
      "text/plain": [
       "Text(0.5, 0, 'Time per prediction')"
      ]
     },
     "execution_count": 117,
     "metadata": {},
     "output_type": "execute_result"
    },
    {
     "data": {
      "image/png": "[encoded data removed]",
      "text/plain": [
       "<Figure size 1000x700 with 1 Axes>"
      ]
     },
     "metadata": {},
     "output_type": "display_data"
    }
   ],
   "source": [
    "import matplotlib.pyplot as plt\n",
    "\n",
    "plt.figure(figsize=(10,7))\n",
    "plt.scatter(baseline_time_per_pred, baseline_results[\"f1\"], label=\"baseline\")\n",
    "plt.scatter(model_6_time_per_pred, model_6_results[\"f1\"], label=\"model_6\")\n",
    "plt.legend()\n",
    "plt.title(\"F1-score versus time per prediction\")\n",
    "plt.ylabel(\"F1-score\")\n",
    "plt.xlabel(\"Time per prediction\")"
   ]
  },
  {
   "cell_type": "markdown",
   "id": "62bfb7e1-2da4-4ca7-9e26-38e818a9110a",
   "metadata": {
    "tags": []
   },
   "source": [
    "## Save and Load Model"
   ]
  },
  {
   "cell_type": "code",
   "execution_count": null,
   "id": "d0c79061-b381-4afd-a469-28fb51bfa156",
   "metadata": {},
   "outputs": [],
   "source": [
    "# Save TF Hub model to H5 format\n",
    "model_6.save(\"model_6.h5\")"
   ]
  },
  {
   "cell_type": "code",
   "execution_count": null,
   "id": "5656f45e-1a36-4340-bd6a-e12ec5798d9f",
   "metadata": {},
   "outputs": [],
   "source": [
    "# Load model with custom Hub layer (required for HDF5 format)\n",
    "import tensorflow_hub as hub\n",
    "\n",
    "loaded_model_6 = tf.keras.models.load_model(\"model_6.h5\",\n",
    "                                            custom_objects={\"KerasLayer\": hub.KerasLayer}) # You need to load models with custom layers because it uses tensorflow_hub which isn't pure tensorflow"
   ]
  },
  {
   "cell_type": "code",
   "execution_count": null,
   "id": "4fcd3bb7-bdb8-431d-93e6-f3625536fdd1",
   "metadata": {},
   "outputs": [],
   "source": [
    "# How does our loaded model perform?\n",
    "loaded_model_6.evaluate(val_sentences, val_labels)"
   ]
  },
  {
   "cell_type": "markdown",
   "id": "368aac76-f500-405f-9c42-17cacf27e5c9",
   "metadata": {},
   "source": [
    "## Making Predictions on the Test Dataset"
   ]
  },
  {
   "cell_type": "code",
   "execution_count": 107,
   "id": "425ee02d-2a7a-41bd-8a8c-a2a6ad152b65",
   "metadata": {},
   "outputs": [],
   "source": [
    "# Making predictions on the test dataset and visualizing them\n",
    "test_sentences = test_df[\"text\"].to_list()\n",
    "test_samples = random.sample(test_sentences, 10)"
   ]
  },
  {
   "cell_type": "code",
   "execution_count": 108,
   "id": "25ab63fc-41fa-42a1-bec7-2a3ffb5cb918",
   "metadata": {},
   "outputs": [
    {
     "name": "stdout",
     "output_type": "stream",
     "text": [
      "Pred: 0.0, Prob: 0.11299712210893631\n",
      "Text:\n",
      "I liked a @YouTube video from @screwattack http://t.co/W5dLLV48cs Knuckles punches into DEATH BATTLE!\n",
      "\n",
      "-----\n",
      "\n",
      "Pred: 0.0, Prob: 0.32397833466529846\n",
      "Text:\n",
      "Roquey and obliterated toy mollusk https://t.co/1qnRBXFr2v\n",
      "\n",
      "-----\n",
      "\n",
      "Pred: 1.0, Prob: 0.608845055103302\n",
      "Text:\n",
      "The Architect Behind Kanye West's Volcano - New York Times http://t.co/3QJUExX0Y0\n",
      "\n",
      "-----\n",
      "\n",
      "Pred: 1.0, Prob: 0.6122822761535645\n",
      "Text:\n",
      "Alaska's #Wolves face catastrophe Alexander #ArchipelagoWolves population plummeted 60% in 1 yr. Be their voice:  http://t.co/vCpKdbnSfp\n",
      "\n",
      "-----\n",
      "\n",
      "Pred: 1.0, Prob: 0.9533448219299316\n",
      "Text:\n",
      "11-Year-Old Boy Charged With Manslaughter of Toddler: Report: An 11-year-old boy has been charged with manslaughter over the fatal sh...\n",
      "\n",
      "-----\n",
      "\n",
      "Pred: 0.0, Prob: 0.4278527796268463\n",
      "Text:\n",
      "Colorado Avalanche @ Anaheim Ducks 1-7 tickets 10/1 preseason http://t.co/XRU1WowZYG\n",
      "\n",
      "-----\n",
      "\n",
      "Pred: 1.0, Prob: 0.8162215948104858\n",
      "Text:\n",
      "FedEx no longer to transport bioterror germs in wake of anthrax lab mishaps http://t.co/RghHkWtKLR #newsdict #news  #FedEx\n",
      "\n",
      "-----\n",
      "\n",
      "Pred: 0.0, Prob: 0.10979674011468887\n",
      "Text:\n",
      "I added some dumb ideas to beat the #summer heat cheaply\n",
      " http://t.co/jatxpAFvA9 @brokelyn #brokelynati\n",
      "\n",
      "-----\n",
      "\n",
      "Pred: 1.0, Prob: 0.8077453970909119\n",
      "Text:\n",
      "I have the experience performing cpr on a actual drowning victim.\n",
      "\n",
      "-----\n",
      "\n",
      "Pred: 0.0, Prob: 0.21175768971443176\n",
      "Text:\n",
      "To fight bioterrorism sir.\n",
      "\n",
      "-----\n",
      "\n"
     ]
    }
   ],
   "source": [
    "for test_sample in test_samples:\n",
    "    pred_prob = tf.squeeze(model_6.predict([test_sample]))\n",
    "    pred = tf.round(pred_prob)\n",
    "    print(f\"Pred: {pred}, Prob: {pred_prob}\")\n",
    "    print(f\"Text:\\n{test_sample}\\n\")\n",
    "    print(\"-----\\n\")"
   ]
  }
 ],
 "metadata": {
  "kernelspec": {
   "display_name": "d",
   "language": "python",
   "name": "d"
  },
  "language_info": {
   "codemirror_mode": {
    "name": "ipython",
    "version": 3
   },
   "file_extension": ".py",
   "mimetype": "text/x-python",
   "name": "python",
   "nbconvert_exporter": "python",
   "pygments_lexer": "ipython3",
   "version": "3.10.12"
  }
 },
 "nbformat": 4,
 "nbformat_minor": 5
}
